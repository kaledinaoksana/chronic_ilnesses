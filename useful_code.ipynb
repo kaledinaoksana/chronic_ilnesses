{
 "cells": [
  {
   "cell_type": "code",
   "execution_count": 5,
   "metadata": {},
   "outputs": [
    {
     "name": "stdout",
     "output_type": "stream",
     "text": [
      "1 + 1 = 2\n",
      "0 + 8 = 8\n"
     ]
    },
    {
     "data": {
      "text/plain": [
       "[2, 8]"
      ]
     },
     "execution_count": 5,
     "metadata": {},
     "output_type": "execute_result"
    }
   ],
   "source": [
    "def function(par1, par2):\n",
    "    print(f\"{par1} + {par2} = {par1+par2}\")\n",
    "    return par1 + par2\n",
    "\n",
    "\n",
    "list(map(function, [1, 0, 3], [1, 8]))"
   ]
  },
  {
   "cell_type": "code",
   "execution_count": 8,
   "metadata": {},
   "outputs": [
    {
     "data": {
      "text/plain": [
       "[1]"
      ]
     },
     "execution_count": 8,
     "metadata": {},
     "output_type": "execute_result"
    }
   ],
   "source": [
    "predicted = [1, 2, 3]\n",
    "actual = [8, 1]\n",
    "\n",
    "# пересечение множеств\n",
    "[value for value in predicted if value in actual]"
   ]
  },
  {
   "cell_type": "code",
   "execution_count": null,
   "metadata": {},
   "outputs": [],
   "source": [
    "# rmetrics https://github.com/statisticianinstilettos/recmetrics/blob/master/recmetrics/metrics.py"
   ]
  }
 ],
 "metadata": {
  "kernelspec": {
   "display_name": "als_env",
   "language": "python",
   "name": "python3"
  },
  "language_info": {
   "codemirror_mode": {
    "name": "ipython",
    "version": 3
   },
   "file_extension": ".py",
   "mimetype": "text/x-python",
   "name": "python",
   "nbconvert_exporter": "python",
   "pygments_lexer": "ipython3",
   "version": "3.11.4"
  }
 },
 "nbformat": 4,
 "nbformat_minor": 2
}
