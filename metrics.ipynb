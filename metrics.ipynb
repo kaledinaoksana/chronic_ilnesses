{
 "cells": [
  {
   "cell_type": "code",
   "execution_count": 1,
   "metadata": {},
   "outputs": [],
   "source": [
    "import pandas as pd\n",
    "import numpy as np\n",
    "import recmetrics\n",
    "import matplotlib.pyplot as plt"
   ]
  },
  {
   "cell_type": "code",
   "execution_count": 2,
   "metadata": {},
   "outputs": [],
   "source": [
    "test = pd.read_csv('test.csv', encoding='utf-8')\n",
    "\n",
    "K = 10"
   ]
  },
  {
   "cell_type": "code",
   "execution_count": 3,
   "metadata": {},
   "outputs": [
    {
     "data": {
      "text/html": [
       "<div>\n",
       "<style scoped>\n",
       "    .dataframe tbody tr th:only-of-type {\n",
       "        vertical-align: middle;\n",
       "    }\n",
       "\n",
       "    .dataframe tbody tr th {\n",
       "        vertical-align: top;\n",
       "    }\n",
       "\n",
       "    .dataframe thead th {\n",
       "        text-align: right;\n",
       "    }\n",
       "</style>\n",
       "<table border=\"1\" class=\"dataframe\">\n",
       "  <thead>\n",
       "    <tr style=\"text-align: right;\">\n",
       "      <th></th>\n",
       "      <th>user_id</th>\n",
       "      <th>actual</th>\n",
       "      <th>recommendations</th>\n",
       "    </tr>\n",
       "  </thead>\n",
       "  <tbody>\n",
       "    <tr>\n",
       "      <th>0</th>\n",
       "      <td>0</td>\n",
       "      <td>[95]</td>\n",
       "      <td>[9, 38, 32, 160, 0, 61, 179, 180, 95, 667]</td>\n",
       "    </tr>\n",
       "    <tr>\n",
       "      <th>1</th>\n",
       "      <td>1</td>\n",
       "      <td>[8, 25, 271]</td>\n",
       "      <td>[8, 25, 271, 0, 948, 412, 947, 1146, 826, 775]</td>\n",
       "    </tr>\n",
       "    <tr>\n",
       "      <th>2</th>\n",
       "      <td>2</td>\n",
       "      <td>[15, 136, 195]</td>\n",
       "      <td>[9, 195, 24, 136, 79, 282, 281, 15, 283, 372]</td>\n",
       "    </tr>\n",
       "    <tr>\n",
       "      <th>3</th>\n",
       "      <td>3</td>\n",
       "      <td>[21, 109, 313]</td>\n",
       "      <td>[109, 0, 313, 51, 21, 53, 356, 142, 445, 978]</td>\n",
       "    </tr>\n",
       "    <tr>\n",
       "      <th>4</th>\n",
       "      <td>4</td>\n",
       "      <td>[0]</td>\n",
       "      <td>[11, 132, 118, 61, 97, 999999, 388, 121, 147, ...</td>\n",
       "    </tr>\n",
       "    <tr>\n",
       "      <th>...</th>\n",
       "      <td>...</td>\n",
       "      <td>...</td>\n",
       "      <td>...</td>\n",
       "    </tr>\n",
       "    <tr>\n",
       "      <th>4887</th>\n",
       "      <td>4887</td>\n",
       "      <td>[1259]</td>\n",
       "      <td>[1259, 470, 1361, 1362, 893, 1048, 557, 22, 26...</td>\n",
       "    </tr>\n",
       "    <tr>\n",
       "      <th>4888</th>\n",
       "      <td>4888</td>\n",
       "      <td>[1338]</td>\n",
       "      <td>[999999, 587, 216, 978, 72, 317, 332, 820, 561...</td>\n",
       "    </tr>\n",
       "    <tr>\n",
       "      <th>4889</th>\n",
       "      <td>4889</td>\n",
       "      <td>[1368]</td>\n",
       "      <td>[1368, 759, 1024, 228, 897, 499, 518, 274, 331...</td>\n",
       "    </tr>\n",
       "    <tr>\n",
       "      <th>4890</th>\n",
       "      <td>4890</td>\n",
       "      <td>[1448]</td>\n",
       "      <td>[1448, 889, 43, 164, 297, 800, 1127, 1002, 133...</td>\n",
       "    </tr>\n",
       "    <tr>\n",
       "      <th>4891</th>\n",
       "      <td>4891</td>\n",
       "      <td>[1458]</td>\n",
       "      <td>[999999, 587, 216, 978, 72, 317, 332, 820, 561...</td>\n",
       "    </tr>\n",
       "  </tbody>\n",
       "</table>\n",
       "<p>4892 rows × 3 columns</p>\n",
       "</div>"
      ],
      "text/plain": [
       "      user_id          actual  \\\n",
       "0           0            [95]   \n",
       "1           1    [8, 25, 271]   \n",
       "2           2  [15, 136, 195]   \n",
       "3           3  [21, 109, 313]   \n",
       "4           4             [0]   \n",
       "...       ...             ...   \n",
       "4887     4887          [1259]   \n",
       "4888     4888          [1338]   \n",
       "4889     4889          [1368]   \n",
       "4890     4890          [1448]   \n",
       "4891     4891          [1458]   \n",
       "\n",
       "                                        recommendations  \n",
       "0            [9, 38, 32, 160, 0, 61, 179, 180, 95, 667]  \n",
       "1        [8, 25, 271, 0, 948, 412, 947, 1146, 826, 775]  \n",
       "2         [9, 195, 24, 136, 79, 282, 281, 15, 283, 372]  \n",
       "3         [109, 0, 313, 51, 21, 53, 356, 142, 445, 978]  \n",
       "4     [11, 132, 118, 61, 97, 999999, 388, 121, 147, ...  \n",
       "...                                                 ...  \n",
       "4887  [1259, 470, 1361, 1362, 893, 1048, 557, 22, 26...  \n",
       "4888  [999999, 587, 216, 978, 72, 317, 332, 820, 561...  \n",
       "4889  [1368, 759, 1024, 228, 897, 499, 518, 274, 331...  \n",
       "4890  [1448, 889, 43, 164, 297, 800, 1127, 1002, 133...  \n",
       "4891  [999999, 587, 216, 978, 72, 317, 332, 820, 561...  \n",
       "\n",
       "[4892 rows x 3 columns]"
      ]
     },
     "execution_count": 3,
     "metadata": {},
     "output_type": "execute_result"
    }
   ],
   "source": [
    "test\n"
   ]
  },
  {
   "cell_type": "markdown",
   "metadata": {},
   "source": [
    "## recall"
   ]
  },
  {
   "cell_type": "code",
   "execution_count": 4,
   "metadata": {},
   "outputs": [
    {
     "data": {
      "text/plain": [
       "[0.08626700395743432,\n",
       " 0.16245297711790768,\n",
       " 0.22736431390105355,\n",
       " 0.2780513621284779,\n",
       " 0.3240272743780057,\n",
       " 0.36048731044246773,\n",
       " 0.38443753995789803,\n",
       " 0.39449615276004246,\n",
       " 0.40177012477890894,\n",
       " 0.41338058908465347]"
      ]
     },
     "execution_count": 4,
     "metadata": {},
     "output_type": "execute_result"
    }
   ],
   "source": [
    "actual = test.actual.values.tolist()\n",
    "predictions = test.recommendations.values.tolist()\n",
    "\n",
    "pop_mark = []\n",
    "for K in np.arange(1, 11):\n",
    "    pop_mark.extend([recmetrics.mark(actual, predictions, k=K)])\n",
    "pop_mark"
   ]
  },
  {
   "cell_type": "code",
   "execution_count": 5,
   "metadata": {},
   "outputs": [
    {
     "data": {
      "image/png": "[encoded data removed]",
      "text/plain": [
       "<Figure size 1500x700 with 1 Axes>"
      ]
     },
     "metadata": {},
     "output_type": "display_data"
    }
   ],
   "source": [
    "mark_scores = [pop_mark]\n",
    "index = range(1,10+1)\n",
    "names = ['Recommender']\n",
    "\n",
    "fig = plt.figure(figsize=(15, 7))\n",
    "recmetrics.mark_plot(mark_scores, model_names=names, k_range=index)"
   ]
  },
  {
   "cell_type": "code",
   "execution_count": null,
   "metadata": {},
   "outputs": [],
   "source": []
  },
  {
   "cell_type": "code",
   "execution_count": null,
   "metadata": {},
   "outputs": [],
   "source": []
  },
  {
   "cell_type": "code",
   "execution_count": null,
   "metadata": {},
   "outputs": [],
   "source": [
    "def add_new_metric(df, name, func):\n",
    "    df[name]=None\n",
    "    for userid in df[\"user_id\"].unique():\n",
    "        test_list = df[df[\"user_id\"]==userid].actual.values[0].replace('[', '').replace(']', '')\n",
    "        recs_list = df[df[\"user_id\"]==userid].recommendations.values[0].replace('[', '').replace(']', '')\n",
    "        test_list = [int(x.strip()) for x in test_list.split(',') if x.strip()]\n",
    "        recs_list = [int(x.strip()) for x in recs_list.split(',') if x.strip()]\n",
    "        df.loc[df[\"user_id\"]==userid, \"recall\"] = func(test_list,recs_list)\n",
    "    return df"
   ]
  },
  {
   "cell_type": "code",
   "execution_count": 6,
   "metadata": {},
   "outputs": [],
   "source": [
    "test_df = test.copy()"
   ]
  },
  {
   "cell_type": "markdown",
   "metadata": {},
   "source": [
    "# recall"
   ]
  },
  {
   "cell_type": "code",
   "execution_count": 7,
   "metadata": {},
   "outputs": [],
   "source": [
    "def recall_func(test_list,recs_list): # tp/(tp+fn)\n",
    "    actual = set(test_list)\n",
    "    predicted = set(recs_list)\n",
    "    tp_set = actual & predicted\n",
    "    fn_set = actual - tp_set\n",
    "    tp = len(tp_set)\n",
    "    fn = len(fn_set)\n",
    "    return tp/(tp+fn)\n",
    "\n",
    "\n"
   ]
  },
  {
   "cell_type": "code",
   "execution_count": 18,
   "metadata": {},
   "outputs": [
    {
     "data": {
      "text/html": [
       "<div>\n",
       "<style scoped>\n",
       "    .dataframe tbody tr th:only-of-type {\n",
       "        vertical-align: middle;\n",
       "    }\n",
       "\n",
       "    .dataframe tbody tr th {\n",
       "        vertical-align: top;\n",
       "    }\n",
       "\n",
       "    .dataframe thead th {\n",
       "        text-align: right;\n",
       "    }\n",
       "</style>\n",
       "<table border=\"1\" class=\"dataframe\">\n",
       "  <thead>\n",
       "    <tr style=\"text-align: right;\">\n",
       "      <th></th>\n",
       "      <th>user_id</th>\n",
       "      <th>actual</th>\n",
       "      <th>recommendations</th>\n",
       "      <th>recall</th>\n",
       "    </tr>\n",
       "  </thead>\n",
       "  <tbody>\n",
       "    <tr>\n",
       "      <th>0</th>\n",
       "      <td>0</td>\n",
       "      <td>[95]</td>\n",
       "      <td>[9, 38, 32, 160, 0, 61, 179, 180, 95, 667]</td>\n",
       "      <td>1.0</td>\n",
       "    </tr>\n",
       "    <tr>\n",
       "      <th>1</th>\n",
       "      <td>1</td>\n",
       "      <td>[8, 25, 271]</td>\n",
       "      <td>[8, 25, 271, 0, 948, 412, 947, 1146, 826, 775]</td>\n",
       "      <td>1.0</td>\n",
       "    </tr>\n",
       "    <tr>\n",
       "      <th>2</th>\n",
       "      <td>2</td>\n",
       "      <td>[15, 136, 195]</td>\n",
       "      <td>[9, 195, 24, 136, 79, 282, 281, 15, 283, 372]</td>\n",
       "      <td>1.0</td>\n",
       "    </tr>\n",
       "    <tr>\n",
       "      <th>3</th>\n",
       "      <td>3</td>\n",
       "      <td>[21, 109, 313]</td>\n",
       "      <td>[109, 0, 313, 51, 21, 53, 356, 142, 445, 978]</td>\n",
       "      <td>1.0</td>\n",
       "    </tr>\n",
       "    <tr>\n",
       "      <th>4</th>\n",
       "      <td>4</td>\n",
       "      <td>[0]</td>\n",
       "      <td>[11, 132, 118, 61, 97, 999999, 388, 121, 147, 193]</td>\n",
       "      <td>0.0</td>\n",
       "    </tr>\n",
       "    <tr>\n",
       "      <th>5</th>\n",
       "      <td>5</td>\n",
       "      <td>[0]</td>\n",
       "      <td>[0, 142, 445, 313, 542, 913, 180, 482, 556, 388]</td>\n",
       "      <td>1.0</td>\n",
       "    </tr>\n",
       "    <tr>\n",
       "      <th>6</th>\n",
       "      <td>6</td>\n",
       "      <td>[0]</td>\n",
       "      <td>[0, 142, 445, 313, 542, 913, 180, 482, 556, 388]</td>\n",
       "      <td>1.0</td>\n",
       "    </tr>\n",
       "    <tr>\n",
       "      <th>7</th>\n",
       "      <td>7</td>\n",
       "      <td>[0]</td>\n",
       "      <td>[0, 142, 445, 313, 542, 913, 180, 482, 556, 388]</td>\n",
       "      <td>1.0</td>\n",
       "    </tr>\n",
       "    <tr>\n",
       "      <th>8</th>\n",
       "      <td>8</td>\n",
       "      <td>[0, 188, 352]</td>\n",
       "      <td>[188, 538, 612, 157, 227, 518, 126, 566, 73, 533]</td>\n",
       "      <td>0.333333</td>\n",
       "    </tr>\n",
       "    <tr>\n",
       "      <th>9</th>\n",
       "      <td>9</td>\n",
       "      <td>[38, 60]</td>\n",
       "      <td>[38, 60, 86, 64, 9, 0, 146, 145, 833, 402]</td>\n",
       "      <td>1.0</td>\n",
       "    </tr>\n",
       "    <tr>\n",
       "      <th>10</th>\n",
       "      <td>10</td>\n",
       "      <td>[6, 18, 32, 33, 49, 117, 118, 229, 288, 367]</td>\n",
       "      <td>[118, 32, 49, 6, 229, 288, 33, 18, 117, 367]</td>\n",
       "      <td>1.0</td>\n",
       "    </tr>\n",
       "    <tr>\n",
       "      <th>11</th>\n",
       "      <td>11</td>\n",
       "      <td>[0, 8, 11, 65, 66, 876]</td>\n",
       "      <td>[11, 8, 66, 0, 999999, 12, 65, 48, 142, 783]</td>\n",
       "      <td>0.833333</td>\n",
       "    </tr>\n",
       "    <tr>\n",
       "      <th>12</th>\n",
       "      <td>12</td>\n",
       "      <td>[0, 65, 182, 205, 360]</td>\n",
       "      <td>[0, 65, 205, 360, 182, 211, 572, 103, 252, 334]</td>\n",
       "      <td>1.0</td>\n",
       "    </tr>\n",
       "    <tr>\n",
       "      <th>13</th>\n",
       "      <td>13</td>\n",
       "      <td>[0]</td>\n",
       "      <td>[18, 20, 19, 0, 29, 61, 337, 166, 445, 172]</td>\n",
       "      <td>1.0</td>\n",
       "    </tr>\n",
       "    <tr>\n",
       "      <th>14</th>\n",
       "      <td>14</td>\n",
       "      <td>[0, 9, 144, 181]</td>\n",
       "      <td>[9, 144, 181, 0, 445, 142, 759, 48, 231, 647]</td>\n",
       "      <td>1.0</td>\n",
       "    </tr>\n",
       "    <tr>\n",
       "      <th>15</th>\n",
       "      <td>15</td>\n",
       "      <td>[0]</td>\n",
       "      <td>[0, 142, 445, 313, 542, 913, 180, 482, 556, 388]</td>\n",
       "      <td>1.0</td>\n",
       "    </tr>\n",
       "    <tr>\n",
       "      <th>16</th>\n",
       "      <td>16</td>\n",
       "      <td>[0, 131, 532, 577]</td>\n",
       "      <td>[0, 142, 445, 313, 542, 913, 180, 482, 556, 388]</td>\n",
       "      <td>0.25</td>\n",
       "    </tr>\n",
       "    <tr>\n",
       "      <th>17</th>\n",
       "      <td>17</td>\n",
       "      <td>[482]</td>\n",
       "      <td>[0, 244, 482, 192, 328, 273, 475, 104, 56, 80]</td>\n",
       "      <td>1.0</td>\n",
       "    </tr>\n",
       "    <tr>\n",
       "      <th>18</th>\n",
       "      <td>18</td>\n",
       "      <td>[0, 9, 32]</td>\n",
       "      <td>[9, 32, 0, 142, 445, 313, 542, 913, 180, 482]</td>\n",
       "      <td>1.0</td>\n",
       "    </tr>\n",
       "    <tr>\n",
       "      <th>19</th>\n",
       "      <td>19</td>\n",
       "      <td>[0, 296]</td>\n",
       "      <td>[0, 296, 30, 445, 878, 297, 142, 334, 913, 176]</td>\n",
       "      <td>1.0</td>\n",
       "    </tr>\n",
       "  </tbody>\n",
       "</table>\n",
       "</div>"
      ],
      "text/plain": [
       "    user_id                                        actual  \\\n",
       "0         0                                          [95]   \n",
       "1         1                                  [8, 25, 271]   \n",
       "2         2                                [15, 136, 195]   \n",
       "3         3                                [21, 109, 313]   \n",
       "4         4                                           [0]   \n",
       "5         5                                           [0]   \n",
       "6         6                                           [0]   \n",
       "7         7                                           [0]   \n",
       "8         8                                 [0, 188, 352]   \n",
       "9         9                                      [38, 60]   \n",
       "10       10  [6, 18, 32, 33, 49, 117, 118, 229, 288, 367]   \n",
       "11       11                       [0, 8, 11, 65, 66, 876]   \n",
       "12       12                        [0, 65, 182, 205, 360]   \n",
       "13       13                                           [0]   \n",
       "14       14                              [0, 9, 144, 181]   \n",
       "15       15                                           [0]   \n",
       "16       16                            [0, 131, 532, 577]   \n",
       "17       17                                         [482]   \n",
       "18       18                                    [0, 9, 32]   \n",
       "19       19                                      [0, 296]   \n",
       "\n",
       "                                       recommendations    recall  \n",
       "0           [9, 38, 32, 160, 0, 61, 179, 180, 95, 667]       1.0  \n",
       "1       [8, 25, 271, 0, 948, 412, 947, 1146, 826, 775]       1.0  \n",
       "2        [9, 195, 24, 136, 79, 282, 281, 15, 283, 372]       1.0  \n",
       "3        [109, 0, 313, 51, 21, 53, 356, 142, 445, 978]       1.0  \n",
       "4   [11, 132, 118, 61, 97, 999999, 388, 121, 147, 193]       0.0  \n",
       "5     [0, 142, 445, 313, 542, 913, 180, 482, 556, 388]       1.0  \n",
       "6     [0, 142, 445, 313, 542, 913, 180, 482, 556, 388]       1.0  \n",
       "7     [0, 142, 445, 313, 542, 913, 180, 482, 556, 388]       1.0  \n",
       "8    [188, 538, 612, 157, 227, 518, 126, 566, 73, 533]  0.333333  \n",
       "9           [38, 60, 86, 64, 9, 0, 146, 145, 833, 402]       1.0  \n",
       "10        [118, 32, 49, 6, 229, 288, 33, 18, 117, 367]       1.0  \n",
       "11        [11, 8, 66, 0, 999999, 12, 65, 48, 142, 783]  0.833333  \n",
       "12     [0, 65, 205, 360, 182, 211, 572, 103, 252, 334]       1.0  \n",
       "13         [18, 20, 19, 0, 29, 61, 337, 166, 445, 172]       1.0  \n",
       "14       [9, 144, 181, 0, 445, 142, 759, 48, 231, 647]       1.0  \n",
       "15    [0, 142, 445, 313, 542, 913, 180, 482, 556, 388]       1.0  \n",
       "16    [0, 142, 445, 313, 542, 913, 180, 482, 556, 388]      0.25  \n",
       "17      [0, 244, 482, 192, 328, 273, 475, 104, 56, 80]       1.0  \n",
       "18       [9, 32, 0, 142, 445, 313, 542, 913, 180, 482]       1.0  \n",
       "19     [0, 296, 30, 445, 878, 297, 142, 334, 913, 176]       1.0  "
      ]
     },
     "execution_count": 18,
     "metadata": {},
     "output_type": "execute_result"
    }
   ],
   "source": [
    "test_df = add_new_metric(test_df, \"recall\", recall_func)\n",
    "\n",
    "pd.set_option('display.max_colwidth', None)\n",
    "test_df.head(20)"
   ]
  },
  {
   "cell_type": "code",
   "execution_count": 9,
   "metadata": {},
   "outputs": [
    {
     "data": {
      "text/plain": [
       "0.8965933357563526"
      ]
     },
     "execution_count": 9,
     "metadata": {},
     "output_type": "execute_result"
    }
   ],
   "source": [
    "test_df.recall.mean()"
   ]
  },
  {
   "cell_type": "code",
   "execution_count": 10,
   "metadata": {},
   "outputs": [
    {
     "data": {
      "text/html": [
       "<div>\n",
       "<style scoped>\n",
       "    .dataframe tbody tr th:only-of-type {\n",
       "        vertical-align: middle;\n",
       "    }\n",
       "\n",
       "    .dataframe tbody tr th {\n",
       "        vertical-align: top;\n",
       "    }\n",
       "\n",
       "    .dataframe thead th {\n",
       "        text-align: right;\n",
       "    }\n",
       "</style>\n",
       "<table border=\"1\" class=\"dataframe\">\n",
       "  <thead>\n",
       "    <tr style=\"text-align: right;\">\n",
       "      <th></th>\n",
       "      <th>user_id</th>\n",
       "      <th>actual</th>\n",
       "      <th>recommendations</th>\n",
       "      <th>recall</th>\n",
       "    </tr>\n",
       "  </thead>\n",
       "  <tbody>\n",
       "    <tr>\n",
       "      <th>0</th>\n",
       "      <td>0</td>\n",
       "      <td>[95]</td>\n",
       "      <td>[9, 38, 32, 160, 0, 61, 179, 180, 95, 667]</td>\n",
       "      <td>1.0</td>\n",
       "    </tr>\n",
       "    <tr>\n",
       "      <th>1</th>\n",
       "      <td>1</td>\n",
       "      <td>[8, 25, 271]</td>\n",
       "      <td>[8, 25, 271, 0, 948, 412, 947, 1146, 826, 775]</td>\n",
       "      <td>1.0</td>\n",
       "    </tr>\n",
       "    <tr>\n",
       "      <th>2</th>\n",
       "      <td>2</td>\n",
       "      <td>[15, 136, 195]</td>\n",
       "      <td>[9, 195, 24, 136, 79, 282, 281, 15, 283, 372]</td>\n",
       "      <td>1.0</td>\n",
       "    </tr>\n",
       "    <tr>\n",
       "      <th>3</th>\n",
       "      <td>3</td>\n",
       "      <td>[21, 109, 313]</td>\n",
       "      <td>[109, 0, 313, 51, 21, 53, 356, 142, 445, 978]</td>\n",
       "      <td>1.0</td>\n",
       "    </tr>\n",
       "    <tr>\n",
       "      <th>4</th>\n",
       "      <td>4</td>\n",
       "      <td>[0]</td>\n",
       "      <td>[11, 132, 118, 61, 97, 999999, 388, 121, 147, 193]</td>\n",
       "      <td>0.0</td>\n",
       "    </tr>\n",
       "    <tr>\n",
       "      <th>5</th>\n",
       "      <td>5</td>\n",
       "      <td>[0]</td>\n",
       "      <td>[0, 142, 445, 313, 542, 913, 180, 482, 556, 388]</td>\n",
       "      <td>1.0</td>\n",
       "    </tr>\n",
       "    <tr>\n",
       "      <th>6</th>\n",
       "      <td>6</td>\n",
       "      <td>[0]</td>\n",
       "      <td>[0, 142, 445, 313, 542, 913, 180, 482, 556, 388]</td>\n",
       "      <td>1.0</td>\n",
       "    </tr>\n",
       "    <tr>\n",
       "      <th>7</th>\n",
       "      <td>7</td>\n",
       "      <td>[0]</td>\n",
       "      <td>[0, 142, 445, 313, 542, 913, 180, 482, 556, 388]</td>\n",
       "      <td>1.0</td>\n",
       "    </tr>\n",
       "    <tr>\n",
       "      <th>8</th>\n",
       "      <td>8</td>\n",
       "      <td>[0, 188, 352]</td>\n",
       "      <td>[188, 538, 612, 157, 227, 518, 126, 566, 73, 533]</td>\n",
       "      <td>0.333333</td>\n",
       "    </tr>\n",
       "    <tr>\n",
       "      <th>9</th>\n",
       "      <td>9</td>\n",
       "      <td>[38, 60]</td>\n",
       "      <td>[38, 60, 86, 64, 9, 0, 146, 145, 833, 402]</td>\n",
       "      <td>1.0</td>\n",
       "    </tr>\n",
       "    <tr>\n",
       "      <th>10</th>\n",
       "      <td>10</td>\n",
       "      <td>[6, 18, 32, 33, 49, 117, 118, 229, 288, 367]</td>\n",
       "      <td>[118, 32, 49, 6, 229, 288, 33, 18, 117, 367]</td>\n",
       "      <td>1.0</td>\n",
       "    </tr>\n",
       "    <tr>\n",
       "      <th>11</th>\n",
       "      <td>11</td>\n",
       "      <td>[0, 8, 11, 65, 66, 876]</td>\n",
       "      <td>[11, 8, 66, 0, 999999, 12, 65, 48, 142, 783]</td>\n",
       "      <td>0.833333</td>\n",
       "    </tr>\n",
       "    <tr>\n",
       "      <th>12</th>\n",
       "      <td>12</td>\n",
       "      <td>[0, 65, 182, 205, 360]</td>\n",
       "      <td>[0, 65, 205, 360, 182, 211, 572, 103, 252, 334]</td>\n",
       "      <td>1.0</td>\n",
       "    </tr>\n",
       "    <tr>\n",
       "      <th>13</th>\n",
       "      <td>13</td>\n",
       "      <td>[0]</td>\n",
       "      <td>[18, 20, 19, 0, 29, 61, 337, 166, 445, 172]</td>\n",
       "      <td>1.0</td>\n",
       "    </tr>\n",
       "    <tr>\n",
       "      <th>14</th>\n",
       "      <td>14</td>\n",
       "      <td>[0, 9, 144, 181]</td>\n",
       "      <td>[9, 144, 181, 0, 445, 142, 759, 48, 231, 647]</td>\n",
       "      <td>1.0</td>\n",
       "    </tr>\n",
       "    <tr>\n",
       "      <th>15</th>\n",
       "      <td>15</td>\n",
       "      <td>[0]</td>\n",
       "      <td>[0, 142, 445, 313, 542, 913, 180, 482, 556, 388]</td>\n",
       "      <td>1.0</td>\n",
       "    </tr>\n",
       "    <tr>\n",
       "      <th>16</th>\n",
       "      <td>16</td>\n",
       "      <td>[0, 131, 532, 577]</td>\n",
       "      <td>[0, 142, 445, 313, 542, 913, 180, 482, 556, 388]</td>\n",
       "      <td>0.25</td>\n",
       "    </tr>\n",
       "    <tr>\n",
       "      <th>17</th>\n",
       "      <td>17</td>\n",
       "      <td>[482]</td>\n",
       "      <td>[0, 244, 482, 192, 328, 273, 475, 104, 56, 80]</td>\n",
       "      <td>1.0</td>\n",
       "    </tr>\n",
       "    <tr>\n",
       "      <th>18</th>\n",
       "      <td>18</td>\n",
       "      <td>[0, 9, 32]</td>\n",
       "      <td>[9, 32, 0, 142, 445, 313, 542, 913, 180, 482]</td>\n",
       "      <td>1.0</td>\n",
       "    </tr>\n",
       "    <tr>\n",
       "      <th>19</th>\n",
       "      <td>19</td>\n",
       "      <td>[0, 296]</td>\n",
       "      <td>[0, 296, 30, 445, 878, 297, 142, 334, 913, 176]</td>\n",
       "      <td>1.0</td>\n",
       "    </tr>\n",
       "    <tr>\n",
       "      <th>20</th>\n",
       "      <td>20</td>\n",
       "      <td>[409]</td>\n",
       "      <td>[18, 16, 409, 185, 61, 461, 0, 187, 313, 445]</td>\n",
       "      <td>1.0</td>\n",
       "    </tr>\n",
       "    <tr>\n",
       "      <th>21</th>\n",
       "      <td>21</td>\n",
       "      <td>[0, 55, 166, 204, 411]</td>\n",
       "      <td>[55, 0, 411, 166, 204, 621, 908, 296, 633, 530]</td>\n",
       "      <td>1.0</td>\n",
       "    </tr>\n",
       "    <tr>\n",
       "      <th>22</th>\n",
       "      <td>22</td>\n",
       "      <td>[0]</td>\n",
       "      <td>[0, 142, 445, 313, 542, 913, 180, 482, 556, 388]</td>\n",
       "      <td>1.0</td>\n",
       "    </tr>\n",
       "    <tr>\n",
       "      <th>23</th>\n",
       "      <td>23</td>\n",
       "      <td>[9, 32, 45, 53, 241]</td>\n",
       "      <td>[32, 53, 9, 45, 0, 241, 494, 244, 297, 871]</td>\n",
       "      <td>1.0</td>\n",
       "    </tr>\n",
       "    <tr>\n",
       "      <th>24</th>\n",
       "      <td>24</td>\n",
       "      <td>[0, 10, 133, 197, 228]</td>\n",
       "      <td>[10, 133, 0, 228, 419, 466, 886, 6, 372, 142]</td>\n",
       "      <td>0.8</td>\n",
       "    </tr>\n",
       "    <tr>\n",
       "      <th>25</th>\n",
       "      <td>25</td>\n",
       "      <td>[14, 50, 61]</td>\n",
       "      <td>[14, 50, 61, 0, 445, 30, 195, 416, 875, 62]</td>\n",
       "      <td>1.0</td>\n",
       "    </tr>\n",
       "    <tr>\n",
       "      <th>26</th>\n",
       "      <td>26</td>\n",
       "      <td>[0, 9, 32, 142, 442]</td>\n",
       "      <td>[0, 9, 442, 32, 142, 145, 146, 96, 53, 147]</td>\n",
       "      <td>1.0</td>\n",
       "    </tr>\n",
       "    <tr>\n",
       "      <th>27</th>\n",
       "      <td>27</td>\n",
       "      <td>[0]</td>\n",
       "      <td>[0, 142, 445, 313, 542, 913, 180, 482, 556, 388]</td>\n",
       "      <td>1.0</td>\n",
       "    </tr>\n",
       "    <tr>\n",
       "      <th>28</th>\n",
       "      <td>28</td>\n",
       "      <td>[0]</td>\n",
       "      <td>[0, 142, 445, 313, 542, 913, 180, 482, 556, 388]</td>\n",
       "      <td>1.0</td>\n",
       "    </tr>\n",
       "    <tr>\n",
       "      <th>29</th>\n",
       "      <td>29</td>\n",
       "      <td>[0, 53, 142]</td>\n",
       "      <td>[0, 53, 142, 442, 146, 145, 96, 147, 542, 420]</td>\n",
       "      <td>1.0</td>\n",
       "    </tr>\n",
       "  </tbody>\n",
       "</table>\n",
       "</div>"
      ],
      "text/plain": [
       "    user_id                                        actual  \\\n",
       "0         0                                          [95]   \n",
       "1         1                                  [8, 25, 271]   \n",
       "2         2                                [15, 136, 195]   \n",
       "3         3                                [21, 109, 313]   \n",
       "4         4                                           [0]   \n",
       "5         5                                           [0]   \n",
       "6         6                                           [0]   \n",
       "7         7                                           [0]   \n",
       "8         8                                 [0, 188, 352]   \n",
       "9         9                                      [38, 60]   \n",
       "10       10  [6, 18, 32, 33, 49, 117, 118, 229, 288, 367]   \n",
       "11       11                       [0, 8, 11, 65, 66, 876]   \n",
       "12       12                        [0, 65, 182, 205, 360]   \n",
       "13       13                                           [0]   \n",
       "14       14                              [0, 9, 144, 181]   \n",
       "15       15                                           [0]   \n",
       "16       16                            [0, 131, 532, 577]   \n",
       "17       17                                         [482]   \n",
       "18       18                                    [0, 9, 32]   \n",
       "19       19                                      [0, 296]   \n",
       "20       20                                         [409]   \n",
       "21       21                        [0, 55, 166, 204, 411]   \n",
       "22       22                                           [0]   \n",
       "23       23                          [9, 32, 45, 53, 241]   \n",
       "24       24                        [0, 10, 133, 197, 228]   \n",
       "25       25                                  [14, 50, 61]   \n",
       "26       26                          [0, 9, 32, 142, 442]   \n",
       "27       27                                           [0]   \n",
       "28       28                                           [0]   \n",
       "29       29                                  [0, 53, 142]   \n",
       "\n",
       "                                       recommendations    recall  \n",
       "0           [9, 38, 32, 160, 0, 61, 179, 180, 95, 667]       1.0  \n",
       "1       [8, 25, 271, 0, 948, 412, 947, 1146, 826, 775]       1.0  \n",
       "2        [9, 195, 24, 136, 79, 282, 281, 15, 283, 372]       1.0  \n",
       "3        [109, 0, 313, 51, 21, 53, 356, 142, 445, 978]       1.0  \n",
       "4   [11, 132, 118, 61, 97, 999999, 388, 121, 147, 193]       0.0  \n",
       "5     [0, 142, 445, 313, 542, 913, 180, 482, 556, 388]       1.0  \n",
       "6     [0, 142, 445, 313, 542, 913, 180, 482, 556, 388]       1.0  \n",
       "7     [0, 142, 445, 313, 542, 913, 180, 482, 556, 388]       1.0  \n",
       "8    [188, 538, 612, 157, 227, 518, 126, 566, 73, 533]  0.333333  \n",
       "9           [38, 60, 86, 64, 9, 0, 146, 145, 833, 402]       1.0  \n",
       "10        [118, 32, 49, 6, 229, 288, 33, 18, 117, 367]       1.0  \n",
       "11        [11, 8, 66, 0, 999999, 12, 65, 48, 142, 783]  0.833333  \n",
       "12     [0, 65, 205, 360, 182, 211, 572, 103, 252, 334]       1.0  \n",
       "13         [18, 20, 19, 0, 29, 61, 337, 166, 445, 172]       1.0  \n",
       "14       [9, 144, 181, 0, 445, 142, 759, 48, 231, 647]       1.0  \n",
       "15    [0, 142, 445, 313, 542, 913, 180, 482, 556, 388]       1.0  \n",
       "16    [0, 142, 445, 313, 542, 913, 180, 482, 556, 388]      0.25  \n",
       "17      [0, 244, 482, 192, 328, 273, 475, 104, 56, 80]       1.0  \n",
       "18       [9, 32, 0, 142, 445, 313, 542, 913, 180, 482]       1.0  \n",
       "19     [0, 296, 30, 445, 878, 297, 142, 334, 913, 176]       1.0  \n",
       "20       [18, 16, 409, 185, 61, 461, 0, 187, 313, 445]       1.0  \n",
       "21     [55, 0, 411, 166, 204, 621, 908, 296, 633, 530]       1.0  \n",
       "22    [0, 142, 445, 313, 542, 913, 180, 482, 556, 388]       1.0  \n",
       "23         [32, 53, 9, 45, 0, 241, 494, 244, 297, 871]       1.0  \n",
       "24       [10, 133, 0, 228, 419, 466, 886, 6, 372, 142]       0.8  \n",
       "25         [14, 50, 61, 0, 445, 30, 195, 416, 875, 62]       1.0  \n",
       "26         [0, 9, 442, 32, 142, 145, 146, 96, 53, 147]       1.0  \n",
       "27    [0, 142, 445, 313, 542, 913, 180, 482, 556, 388]       1.0  \n",
       "28    [0, 142, 445, 313, 542, 913, 180, 482, 556, 388]       1.0  \n",
       "29      [0, 53, 142, 442, 146, 145, 96, 147, 542, 420]       1.0  "
      ]
     },
     "execution_count": 10,
     "metadata": {},
     "output_type": "execute_result"
    }
   ],
   "source": [
    "pd.set_option('display.max_colwidth', None)\n",
    "test_df.head(30)"
   ]
  },
  {
   "cell_type": "code",
   "execution_count": 11,
   "metadata": {},
   "outputs": [
    {
     "data": {
      "text/plain": [
       "0.0"
      ]
     },
     "execution_count": 11,
     "metadata": {},
     "output_type": "execute_result"
    }
   ],
   "source": [
    "actual = set([0])\n",
    "predicted = set([11, 132, 118, 61, 97, 999999, 388, 121, 147, 193])\n",
    "tp_set = actual & predicted\n",
    "fn_set = actual - tp_set\n",
    "tp = len(tp_set)\n",
    "fn = len(fn_set)\n",
    "tp/(tp+fn)"
   ]
  },
  {
   "cell_type": "code",
   "execution_count": 12,
   "metadata": {},
   "outputs": [
    {
     "name": "stdout",
     "output_type": "stream",
     "text": [
      "test: [0]\n",
      "recs: [11, 132, 118, 61, 97, 999999, 388, 121, 147, 193]\n"
     ]
    },
    {
     "data": {
      "text/plain": [
       "list"
      ]
     },
     "execution_count": 12,
     "metadata": {},
     "output_type": "execute_result"
    }
   ],
   "source": [
    "df = test_df.copy()\n",
    "userid=4\n",
    "\n",
    "test_list = df[df[\"user_id\"]==userid].actual.values[0].replace('[', '').replace(']', '')\n",
    "recs_list = df[df[\"user_id\"]==userid].recommendations.values[0].replace('[', '').replace(']', '')\n",
    "test_list = [int(x.strip()) for x in test_list.split(',') if x.strip()]\n",
    "recs_list = [int(x.strip()) for x in recs_list.split(',') if x.strip()]\n",
    "\n",
    "print(\"test:\",test_list)\n",
    "print(\"recs:\",recs_list)\n",
    "type(recs_list)"
   ]
  },
  {
   "cell_type": "code",
   "execution_count": 13,
   "metadata": {},
   "outputs": [
    {
     "data": {
      "text/plain": [
       "0.0"
      ]
     },
     "execution_count": 13,
     "metadata": {},
     "output_type": "execute_result"
    }
   ],
   "source": [
    "actual = set(test_list)\n",
    "predicted = set(recs_list)\n",
    "tp_set = actual & predicted\n",
    "fn_set = actual - tp_set\n",
    "tp = len(tp_set)\n",
    "fn = len(fn_set)\n",
    "tp/(tp+fn)\n",
    "\n"
   ]
  },
  {
   "cell_type": "code",
   "execution_count": 14,
   "metadata": {},
   "outputs": [
    {
     "data": {
      "text/plain": [
       "{11, 61, 97, 118, 121, 132, 147, 193, 388, 999999}"
      ]
     },
     "execution_count": 14,
     "metadata": {},
     "output_type": "execute_result"
    }
   ],
   "source": [
    "predicted"
   ]
  },
  {
   "cell_type": "code",
   "execution_count": 15,
   "metadata": {},
   "outputs": [
    {
     "data": {
      "text/plain": [
       "{0}"
      ]
     },
     "execution_count": 15,
     "metadata": {},
     "output_type": "execute_result"
    }
   ],
   "source": [
    "actual"
   ]
  },
  {
   "cell_type": "code",
   "execution_count": 16,
   "metadata": {},
   "outputs": [
    {
     "data": {
      "text/plain": [
       "{0}"
      ]
     },
     "execution_count": 16,
     "metadata": {},
     "output_type": "execute_result"
    }
   ],
   "source": [
    "actual"
   ]
  },
  {
   "cell_type": "code",
   "execution_count": 17,
   "metadata": {},
   "outputs": [
    {
     "data": {
      "text/plain": [
       "set()"
      ]
     },
     "execution_count": 17,
     "metadata": {},
     "output_type": "execute_result"
    }
   ],
   "source": [
    "tp_set"
   ]
  },
  {
   "cell_type": "markdown",
   "metadata": {},
   "source": [
    "# map"
   ]
  },
  {
   "cell_type": "code",
   "execution_count": null,
   "metadata": {},
   "outputs": [],
   "source": []
  },
  {
   "cell_type": "code",
   "execution_count": null,
   "metadata": {},
   "outputs": [],
   "source": []
  },
  {
   "cell_type": "code",
   "execution_count": null,
   "metadata": {},
   "outputs": [],
   "source": []
  },
  {
   "cell_type": "markdown",
   "metadata": {},
   "source": [
    "# precision"
   ]
  },
  {
   "cell_type": "code",
   "execution_count": null,
   "metadata": {},
   "outputs": [],
   "source": []
  },
  {
   "cell_type": "code",
   "execution_count": null,
   "metadata": {},
   "outputs": [],
   "source": []
  },
  {
   "cell_type": "code",
   "execution_count": null,
   "metadata": {},
   "outputs": [],
   "source": []
  },
  {
   "cell_type": "code",
   "execution_count": null,
   "metadata": {},
   "outputs": [],
   "source": []
  },
  {
   "cell_type": "markdown",
   "metadata": {},
   "source": []
  }
 ],
 "metadata": {
  "kernelspec": {
   "display_name": "als_env",
   "language": "python",
   "name": "python3"
  },
  "language_info": {
   "codemirror_mode": {
    "name": "ipython",
    "version": 3
   },
   "file_extension": ".py",
   "mimetype": "text/x-python",
   "name": "python",
   "nbconvert_exporter": "python",
   "pygments_lexer": "ipython3",
   "version": "3.11.4"
  }
 },
 "nbformat": 4,
 "nbformat_minor": 2
}
