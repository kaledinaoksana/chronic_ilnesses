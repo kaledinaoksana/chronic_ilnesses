{
 "cells": [
  {
   "cell_type": "code",
   "execution_count": 6,
   "metadata": {},
   "outputs": [],
   "source": [
    "from models import TimeSeriesProcessor, ForALS, DfFunctions\n",
    "\n",
    "import numpy as np\n",
    "import pandas as pd\n",
    "from scipy.sparse import csr_matrix\n",
    "\n",
    "dfun = DfFunctions.DfFunctions()\n",
    "proc = TimeSeriesProcessor.TimeSeriesDataProcessor()\n",
    "fals = ForALS.ForALS()\n",
    "cl = ForALS.Clustering()"
   ]
  },
  {
   "cell_type": "markdown",
   "metadata": {},
   "source": [
    "# DONE\n"
   ]
  },
  {
   "cell_type": "markdown",
   "metadata": {},
   "source": [
    "## Data Cleaning\n",
    "\n",
    "**raw_data** - сырые данные \n",
    "\n",
    "**df** - очищенные данные\n",
    "\n",
    "**mapping_matrix_id** - таблица соответствия user_id и numeric_user_id\n",
    "\n",
    "**mapping_matrix_trackable** - таблица соответствия trackable_name и numeric_trackable_name"
   ]
  },
  {
   "cell_type": "code",
   "execution_count": 7,
   "metadata": {},
   "outputs": [],
   "source": [
    "DF_NAME=\"df_condition\"\n",
    "PATH = '/Users/kaledinaoa/data/data_chronic_illness/'\n",
    "\n",
    "min_num_of_records = 20\n",
    "min_trackable_name_count = 50\n",
    "min_num_of_dates = 6\n",
    "\n",
    "NUM_TOP_K = 1000"
   ]
  },
  {
   "cell_type": "markdown",
   "metadata": {},
   "source": [
    "**def clean_df(df)**\n",
    "\n",
    "1. Удаляем, где у юзеров нет age/sex/country (данных достаточно)\n",
    "2. Подсчитываем количество встречаемости trackable_name\n",
    "3. Выбираем записи, где количество встречаемости trackable_name > **min_trackable_name_count**\n",
    "4. Удаляем ненужные колонки\n",
    "5. Подсчитываем количество записей на каждого юзера и фильтруем count_of_records >= **min_num_of_records**\n",
    "6. Оставляем в df_clean только отфильтрованные user_id\n",
    "7. Фильтруем, что у пользователя количество дат записей >= **min_num_of_dates**\n",
    "8. Созлаем матрицы соответствия для 'user_id' и 'trackable_name'\n",
    "9. Удаляем столбцы 'user_id' и 'trackable_name' - у нас есть матрицы соответствия\n",
    "10. Меняем порядок колонок\n"
   ]
  },
  {
   "cell_type": "code",
   "execution_count": 8,
   "metadata": {},
   "outputs": [
    {
     "name": "stdout",
     "output_type": "stream",
     "text": [
      "Percent of saved rows = 72.96% or 810981 rows\n"
     ]
    }
   ],
   "source": [
    "\n",
    "def clean_df(df):\n",
    "    \n",
    "    # proc.list_methods()\n",
    "    df.columns = [col.lower() for col in df.columns]\n",
    "    # Удаляем, где у юзеров нет age/sex/country (данных достаточно)\n",
    "    df_new = df.dropna(subset=['age', 'sex','country'])\n",
    "    # Подсчитываем количество встречаемости trackable_name\n",
    "    df_count_trackable_name = proc.calculate_counttable_by_columnname(df,\"trackable_name\").sort_values(by='count', ascending=False)\n",
    "    # Выбираем записи, где количество встречаемости trackable_name > min_trackable_name_count\n",
    "    df_clean = proc.delete_rows_with_higher_count(df=df_new, df_count=df_count_trackable_name, min_count=min_trackable_name_count, col='trackable_name')\n",
    "    # Удаляем ненужные колонки\n",
    "    df_clean = proc.drop_columns_by_columnsnames(df_clean, ['count', 'trackable_type'])\n",
    "    # Подсчитываем количество записей на каждого юзера и фильтруем count_of_records >= min_num_of_records\n",
    "    filtered_users_with_counts = proc.filter_by_min_records(df_clean, min_num_of_records)\n",
    "    # Оставляем в df_clean только отфильтрованные user_id\n",
    "    df_clean = df_clean[df_clean['user_id'].isin(filtered_users_with_counts[\"user_id\"])]\n",
    "    # Фильтруем, что у пользователя количество дат записей >= min_num_of_dates\n",
    "    df_clean = proc.filter_by_min_number_of_dates(df_clean, min_num_of_dates)\n",
    "\n",
    "    # Create mapping matrices for 'user_id' and 'trackable_name'\n",
    "    mapping_matrix_id, df_cleaned = proc.create_mapping_matrix(df_clean, 'user_id')\n",
    "    mapping_matrix_trackable, df_cleaned = proc.create_mapping_matrix(df_clean, 'trackable_name')\n",
    "   \n",
    "    # Удаляем столбцы 'user_id' и 'trackable_name' - у нас есть матрицы соответствия\n",
    "    df_c = proc.drop_columns_by_columnsnames(df_cleaned,['user_id','trackable_name'])\n",
    "\n",
    "    # Меняем порядок колонок\n",
    "    new_order = ['numeric_user_id', 'age', 'sex','country','checkin_date','numeric_trackable_name','trackable_value']\n",
    "    df_c = df_c.reindex(columns=new_order)\n",
    "\n",
    "    return df_c, mapping_matrix_id, mapping_matrix_trackable\n",
    "\n",
    "raw_data = proc.load_csv(DF_NAME, PATH)\n",
    "\n",
    "df_cleaned, mapping_matrix_id, mapping_matrix_trackable = clean_df(raw_data.copy())\n",
    "\n",
    "print(\"Percent of saved rows = {percent:.2f}% or {num:d} rows\".format(percent=df_cleaned.shape[0]*100/raw_data.shape[0], num=df_cleaned.shape[0]))"
   ]
  },
  {
   "cell_type": "code",
   "execution_count": 9,
   "metadata": {},
   "outputs": [
    {
     "data": {
      "text/html": [
       "<div>\n",
       "<style scoped>\n",
       "    .dataframe tbody tr th:only-of-type {\n",
       "        vertical-align: middle;\n",
       "    }\n",
       "\n",
       "    .dataframe tbody tr th {\n",
       "        vertical-align: top;\n",
       "    }\n",
       "\n",
       "    .dataframe thead th {\n",
       "        text-align: right;\n",
       "    }\n",
       "</style>\n",
       "<table border=\"1\" class=\"dataframe\">\n",
       "  <thead>\n",
       "    <tr style=\"text-align: right;\">\n",
       "      <th></th>\n",
       "      <th>trackable_name</th>\n",
       "      <th>numeric_trackable_name</th>\n",
       "    </tr>\n",
       "  </thead>\n",
       "  <tbody>\n",
       "    <tr>\n",
       "      <th>0</th>\n",
       "      <td>ulcerative colitis</td>\n",
       "      <td>0</td>\n",
       "    </tr>\n",
       "    <tr>\n",
       "      <th>1</th>\n",
       "      <td>headache</td>\n",
       "      <td>1</td>\n",
       "    </tr>\n",
       "    <tr>\n",
       "      <th>2</th>\n",
       "      <td>diziness</td>\n",
       "      <td>2</td>\n",
       "    </tr>\n",
       "    <tr>\n",
       "      <th>3</th>\n",
       "      <td>obsessivecompulsive disorder</td>\n",
       "      <td>3</td>\n",
       "    </tr>\n",
       "    <tr>\n",
       "      <th>4</th>\n",
       "      <td>ovarian cysts</td>\n",
       "      <td>4</td>\n",
       "    </tr>\n",
       "    <tr>\n",
       "      <th>...</th>\n",
       "      <td>...</td>\n",
       "      <td>...</td>\n",
       "    </tr>\n",
       "    <tr>\n",
       "      <th>1494</th>\n",
       "      <td>bad balance</td>\n",
       "      <td>1494</td>\n",
       "    </tr>\n",
       "    <tr>\n",
       "      <th>1495</th>\n",
       "      <td>chronic allergic rhinitis</td>\n",
       "      <td>1495</td>\n",
       "    </tr>\n",
       "    <tr>\n",
       "      <th>1496</th>\n",
       "      <td>self control around food</td>\n",
       "      <td>1496</td>\n",
       "    </tr>\n",
       "    <tr>\n",
       "      <th>1497</th>\n",
       "      <td>attention span</td>\n",
       "      <td>1497</td>\n",
       "    </tr>\n",
       "    <tr>\n",
       "      <th>1498</th>\n",
       "      <td>menstrual issues</td>\n",
       "      <td>1498</td>\n",
       "    </tr>\n",
       "  </tbody>\n",
       "</table>\n",
       "<p>1499 rows × 2 columns</p>\n",
       "</div>"
      ],
      "text/plain": [
       "                    trackable_name  numeric_trackable_name\n",
       "0               ulcerative colitis                       0\n",
       "1                         headache                       1\n",
       "2                         diziness                       2\n",
       "3     obsessivecompulsive disorder                       3\n",
       "4                    ovarian cysts                       4\n",
       "...                            ...                     ...\n",
       "1494                   bad balance                    1494\n",
       "1495     chronic allergic rhinitis                    1495\n",
       "1496      self control around food                    1496\n",
       "1497                attention span                    1497\n",
       "1498              menstrual issues                    1498\n",
       "\n",
       "[1499 rows x 2 columns]"
      ]
     },
     "execution_count": 9,
     "metadata": {},
     "output_type": "execute_result"
    }
   ],
   "source": [
    "mapping_matrix_trackable"
   ]
  },
  {
   "cell_type": "markdown",
   "metadata": {},
   "source": [
    "## Split to train_df, val_df, test_df\n",
    "\n",
    "my_test: 70% : 15% : 15% (по датам)\n",
    "\n",
    "**train** = percent*100% ; **val** = (1-percent)*100/2% ; **test** = (1-percent)*100/2%"
   ]
  },
  {
   "cell_type": "code",
   "execution_count": 10,
   "metadata": {},
   "outputs": [
    {
     "ename": "AttributeError",
     "evalue": "'ForALS' object has no attribute 'split_to_train_test_last_day'",
     "output_type": "error",
     "traceback": [
      "\u001b[0;31m---------------------------------------------------------------------------\u001b[0m",
      "\u001b[0;31mAttributeError\u001b[0m                            Traceback (most recent call last)",
      "Cell \u001b[0;32mIn[10], line 4\u001b[0m\n\u001b[1;32m      1\u001b[0m df \u001b[38;5;241m=\u001b[39m df_cleaned\u001b[38;5;241m.\u001b[39mcopy()\n\u001b[1;32m      3\u001b[0m \u001b[38;5;66;03m# train_df, val_df, test_df = fals.split_to_train_val_test_percent(df, percent_train = 0.7)\u001b[39;00m\n\u001b[0;32m----> 4\u001b[0m train_df, test_df \u001b[38;5;241m=\u001b[39m fals\u001b[38;5;241m.\u001b[39msplit_to_train_test_last_day(df)\n",
      "\u001b[0;31mAttributeError\u001b[0m: 'ForALS' object has no attribute 'split_to_train_test_last_day'"
     ]
    }
   ],
   "source": [
    "df = df_cleaned.copy()\n",
    "\n",
    "# train_df, val_df, test_df = fals.split_to_train_val_test_percent(df, percent_train = 0.7)\n",
    "train_df, test_df = fals.split_to_train_test_last_day(df)"
   ]
  },
  {
   "cell_type": "markdown",
   "metadata": {},
   "source": []
  },
  {
   "cell_type": "markdown",
   "metadata": {},
   "source": [
    "### info about df's"
   ]
  },
  {
   "cell_type": "code",
   "execution_count": null,
   "metadata": {},
   "outputs": [],
   "source": [
    "def print_df_info(df, id='numeric_user_id', tr='numeric_trackable_name'):\n",
    "    users, items, interactions = df[id].nunique(), df[tr].nunique(), df.shape[0]\n",
    "    # info_str = '# users: ' + str(users) + ' # items: ' + str(items) + ' # interactions: ' + str(interactions)\n",
    "    str = \"\"\"users: {us:5}, items: {it:5}, interactions: {inter:7}\"\"\".format(us=users, it=items, inter=interactions)\n",
    "    return str\n",
    "\n",
    "print(\"raw_data:   \", print_df_info(raw_data, id='user_id', tr='trackable_name'))\n",
    "print(\"df_cleaned: \", print_df_info(df_cleaned))\n",
    "print(\"train_df:   \", print_df_info(train_df))\n",
    "# print(\"val_df:     \", print_df_info(val_df))\n",
    "print(\"test_df:    \", print_df_info(test_df))"
   ]
  },
  {
   "cell_type": "markdown",
   "metadata": {},
   "source": [
    "### test user"
   ]
  },
  {
   "cell_type": "code",
   "execution_count": null,
   "metadata": {},
   "outputs": [],
   "source": [
    "def user_print(df, test_user):\n",
    "    df_user = dfun.find_row_by_user(df, test_user,  by=\"numeric_user_id\")\n",
    "    return \"Dates: {dates}, Rows: {rows}\".format(dates=df_user['checkin_date'].drop_duplicates().shape[0],rows=df_user.shape[0])\n",
    "\n",
    "def user_df(df, test_user):\n",
    "    df_user = dfun.find_row_by_user(df, test_user,  by=\"numeric_user_id\")\n",
    "    df_sorted = df_user.sort_values(by='checkin_date')\n",
    "    return df_sorted\n",
    "\n",
    "def info_split_with_val(train, val, test, test_user):\n",
    "    print(\"TRAIN :\",user_print(train, test_user))\n",
    "    print(\"VALID :\",user_print(val, test_user))\n",
    "    print(\"TEST  :\",user_print(test, test_user))\n",
    "    pass\n",
    "\n",
    "def info_split(train, test, test_user):\n",
    "    print(\"TRAIN :\",user_print(train, test_user))\n",
    "    print(\"TEST  :\",user_print(test, test_user))\n",
    "    pass"
   ]
  },
  {
   "cell_type": "code",
   "execution_count": null,
   "metadata": {},
   "outputs": [],
   "source": [
    "test_user_id = 18\n",
    "info_split(train_df, test_df, test_user_id)"
   ]
  },
  {
   "cell_type": "code",
   "execution_count": null,
   "metadata": {},
   "outputs": [],
   "source": [
    "# user_df(train_df,test_user_id)\n",
    "# user_df(test_df,test_user_id)\n",
    "# user_df(val_df,test_user_id)"
   ]
  },
  {
   "cell_type": "markdown",
   "metadata": {},
   "source": [
    "## Creation of user_item_matrix\n",
    "\n",
    "**user_item_matrix** = user_ids x top_k"
   ]
  },
  {
   "cell_type": "code",
   "execution_count": null,
   "metadata": {},
   "outputs": [],
   "source": [
    "# выбираем топ по количеству встречаемости\n",
    "def top_table_by_count(df, top_k):\n",
    "    popularity = proc.calculate_counttable_by_columnname(df,'numeric_trackable_name')\n",
    "    top = popularity.sort_values('count', ascending=False).head(top_k)\n",
    "    return top\n",
    "\n",
    "top_k = top_table_by_count(train_df, NUM_TOP_K)\n",
    "top_k_list = top_k.numeric_trackable_name.tolist()\n",
    "# top_k.sort_values(by='numeric_trackable_name', ascending=False).head(10)\n",
    "# top_k"
   ]
  },
  {
   "cell_type": "code",
   "execution_count": null,
   "metadata": {},
   "outputs": [],
   "source": [
    "# замена редко встречающихся диагнозов на 999999\n",
    "train_df.loc[~train_df['numeric_trackable_name'].isin(top_k_list), 'numeric_trackable_name'] = 999999\n",
    "# train_df.numeric_trackable_name.unique().shape[0]"
   ]
  },
  {
   "cell_type": "code",
   "execution_count": null,
   "metadata": {},
   "outputs": [],
   "source": [
    "user_item_matrix = pd.pivot_table(train_df, \n",
    "                                  index='numeric_user_id', columns='numeric_trackable_name', \n",
    "                                  values='trackable_value', \n",
    "                                  aggfunc='count', \n",
    "                                  fill_value=0\n",
    "                                 )\n",
    " \n",
    "user_item_matrix = user_item_matrix.astype(float) \n",
    "sparse_user_item = csr_matrix(user_item_matrix).tocsr()\n",
    "\n",
    "user_item_matrix.head()"
   ]
  },
  {
   "cell_type": "markdown",
   "metadata": {},
   "source": [
    "## Model ALS"
   ]
  },
  {
   "cell_type": "code",
   "execution_count": null,
   "metadata": {},
   "outputs": [],
   "source": [
    "# Матричная факторизация\n",
    "from implicit.als import AlternatingLeastSquares\n",
    "from implicit.nearest_neighbours import bm25_weight, tfidf_weight\n",
    " "
   ]
  },
  {
   "cell_type": "code",
   "execution_count": null,
   "metadata": {},
   "outputs": [],
   "source": [
    "itemid_to_id, userid_to_id, id_to_itemid, id_to_userid = fals.some_ids_preparation_to_als(user_item_matrix)"
   ]
  },
  {
   "cell_type": "code",
   "execution_count": null,
   "metadata": {},
   "outputs": [],
   "source": [
    "userid = 'numeric_user_id'\n",
    "itemid = 'numeric_trackable_name'\n",
    "# pd.set_option('display.max_colwidth', None)\n",
    "\n",
    "result = test_df.groupby(userid)[itemid].unique().reset_index()\n",
    "result.columns=[userid, 'actual']\n",
    "result.head(6)"
   ]
  },
  {
   "cell_type": "code",
   "execution_count": null,
   "metadata": {},
   "outputs": [],
   "source": [
    "%%time \n",
    "\n",
    "def building_model(factors):\n",
    "    model_als = AlternatingLeastSquares(factors=factors, # скрытые факторы\n",
    "                                    regularization=0.001, # регуляризация, от переобучения модели\n",
    "                                    iterations=30, \n",
    "                                    calculate_training_loss=True, \n",
    "                                    num_threads=4)\n",
    "    \n",
    "    model_als.fit(csr_matrix(user_item_matrix).tocsr(), show_progress=True)\n",
    "    return model_als\n",
    "\n",
    "model_als = building_model(200)"
   ]
  },
  {
   "cell_type": "code",
   "execution_count": null,
   "metadata": {},
   "outputs": [],
   "source": [
    "model = model_als\n",
    "\n",
    "# MODEL INFORMATION\n",
    "print('item_factors:', model.item_factors.shape)\n",
    "print('user_factors:', model.user_factors.shape)\n",
    "\n",
    "# эмбеддинги items\n",
    "item_factors=pd.DataFrame(model.item_factors)\n",
    "\n",
    "# эмбеддинги users\n",
    "user_factors=pd.DataFrame(model.user_factors)\n",
    "# user_factors.head(3)"
   ]
  },
  {
   "cell_type": "markdown",
   "metadata": {},
   "source": [
    "### umap"
   ]
  },
  {
   "cell_type": "code",
   "execution_count": null,
   "metadata": {},
   "outputs": [],
   "source": [
    "import umap\n",
    "\n",
    "reducer = umap.UMAP(n_components=2) # to 2-dimension\n",
    "umap_embeddings_users = reducer.fit_transform(user_factors)\n",
    "umap_embeddings_items = reducer.fit_transform(item_factors)"
   ]
  },
  {
   "cell_type": "markdown",
   "metadata": {},
   "source": [
    "### figure"
   ]
  },
  {
   "cell_type": "code",
   "execution_count": null,
   "metadata": {},
   "outputs": [],
   "source": [
    "fals.figure_umap_embeddings(model, umap_embeddings_users, 'UMAP Visualization of User Embeddings')"
   ]
  },
  {
   "cell_type": "markdown",
   "metadata": {},
   "source": [
    "## Clustering"
   ]
  },
  {
   "cell_type": "markdown",
   "metadata": {},
   "source": [
    "#### KMeans"
   ]
  },
  {
   "cell_type": "code",
   "execution_count": null,
   "metadata": {},
   "outputs": [],
   "source": [
    "# kmeans_labels, kmeans_cosim_df, n_clusters = cl.print_kmeans(umap_embeddings_users, 29)\n",
    "# kmeans_cosim_df"
   ]
  },
  {
   "cell_type": "markdown",
   "metadata": {},
   "source": [
    "#### DBSCAN"
   ]
  },
  {
   "cell_type": "code",
   "execution_count": null,
   "metadata": {},
   "outputs": [],
   "source": [
    "db_labels, db_cosim_df, n_clusters = cl.print_dbscan(umap_embeddings_users, 10)"
   ]
  },
  {
   "cell_type": "code",
   "execution_count": null,
   "metadata": {},
   "outputs": [],
   "source": [
    "db_cosim_df.head(2)"
   ]
  },
  {
   "cell_type": "code",
   "execution_count": null,
   "metadata": {},
   "outputs": [],
   "source": [
    "train_df_with_clusters = cl.create_df_with_cl(umap_embeddings_users, db_labels, train_df)\n",
    "# train_df_with_clusters.head(2)"
   ]
  },
  {
   "cell_type": "code",
   "execution_count": null,
   "metadata": {},
   "outputs": [],
   "source": [
    "count_trname_by_cluster = cl.create_count_trname_by_cluster_dict(n_clusters, train_df_with_clusters, result)"
   ]
  },
  {
   "cell_type": "code",
   "execution_count": null,
   "metadata": {},
   "outputs": [],
   "source": [
    "count_trname_by_cluster[11].head(10)"
   ]
  },
  {
   "cell_type": "code",
   "execution_count": null,
   "metadata": {},
   "outputs": [],
   "source": [
    "clusters = cl.create_usual_features_in_clusters(count_trname_by_cluster, threshold_by_item=0.1, threshold_by_main_group=0.8)"
   ]
  },
  {
   "cell_type": "code",
   "execution_count": null,
   "metadata": {},
   "outputs": [],
   "source": [
    "# clusters\n",
    "# mapping_matrix_trackable.head(12)"
   ]
  },
  {
   "cell_type": "code",
   "execution_count": null,
   "metadata": {},
   "outputs": [],
   "source": [
    "# create clusters with sting dis\n",
    "pd.set_option('display.max_colwidth', None)\n",
    "\n",
    "def create_clusters_disease():\n",
    "    clusters_dis={}\n",
    "    mapping_dict = mapping_matrix_trackable.set_index('numeric_trackable_name')['trackable_name'].to_dict()\n",
    "    for cluster_id, numeric_trackable_names in clusters.items():\n",
    "        clusters_dis[cluster_id] = [mapping_dict.get(numeric_trackable_name, numeric_trackable_name) for numeric_trackable_name in numeric_trackable_names]\n",
    "\n",
    "    df_clusters = pd.DataFrame(clusters_dis.items(), columns=['cluster_id', 'disease_ids'])\n",
    "    df_clusters.set_index('cluster_id', inplace=True)\n",
    "    return df_clusters\n",
    "\n",
    "df_clusters = create_clusters_disease()\n",
    "df_clusters"
   ]
  },
  {
   "cell_type": "markdown",
   "metadata": {},
   "source": [
    "# Model Prediction"
   ]
  },
  {
   "cell_type": "code",
   "execution_count": null,
   "metadata": {},
   "outputs": [],
   "source": []
  },
  {
   "cell_type": "code",
   "execution_count": null,
   "metadata": {},
   "outputs": [],
   "source": [
    "\n",
    "\n"
   ]
  },
  {
   "cell_type": "code",
   "execution_count": null,
   "metadata": {},
   "outputs": [],
   "source": []
  },
  {
   "cell_type": "code",
   "execution_count": null,
   "metadata": {},
   "outputs": [],
   "source": []
  },
  {
   "cell_type": "code",
   "execution_count": null,
   "metadata": {},
   "outputs": [],
   "source": []
  },
  {
   "cell_type": "code",
   "execution_count": null,
   "metadata": {},
   "outputs": [],
   "source": [
    "\n",
    "\n",
    "\n"
   ]
  },
  {
   "cell_type": "code",
   "execution_count": null,
   "metadata": {},
   "outputs": [],
   "source": [
    "\n"
   ]
  },
  {
   "cell_type": "markdown",
   "metadata": {},
   "source": [
    "### prediction"
   ]
  },
  {
   "cell_type": "code",
   "execution_count": null,
   "metadata": {},
   "outputs": [],
   "source": []
  },
  {
   "cell_type": "code",
   "execution_count": null,
   "metadata": {},
   "outputs": [],
   "source": []
  },
  {
   "cell_type": "code",
   "execution_count": null,
   "metadata": {},
   "outputs": [],
   "source": []
  },
  {
   "cell_type": "markdown",
   "metadata": {},
   "source": []
  }
 ],
 "metadata": {
  "kernelspec": {
   "display_name": "base",
   "language": "python",
   "name": "python3"
  },
  "language_info": {
   "codemirror_mode": {
    "name": "ipython",
    "version": 3
   },
   "file_extension": ".py",
   "mimetype": "text/x-python",
   "name": "python",
   "nbconvert_exporter": "python",
   "pygments_lexer": "ipython3",
   "version": "3.11.4"
  }
 },
 "nbformat": 4,
 "nbformat_minor": 2
}
