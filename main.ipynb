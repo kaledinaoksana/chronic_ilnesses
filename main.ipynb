{
 "cells": [
  {
   "cell_type": "code",
   "execution_count": 1,
   "metadata": {},
   "outputs": [],
   "source": [
    "from models import TimeSeriesProcessor, ForALS, DfFunctions\n",
    "\n",
    "import numpy as np\n",
    "import pandas as pd\n",
    "from scipy.sparse import csr_matrix\n",
    "\n",
    "dfun = DfFunctions.DfFunctions()\n",
    "proc = TimeSeriesProcessor.TimeSeriesDataProcessor()\n",
    "fals = ForALS.ForALS()\n",
    "cl = ForALS.Clustering()"
   ]
  },
  {
   "cell_type": "markdown",
   "metadata": {},
   "source": [
    "# DONE\n"
   ]
  },
  {
   "cell_type": "markdown",
   "metadata": {},
   "source": [
    "## Data Cleaning\n",
    "\n",
    "**raw_data** - сырые данные \n",
    "\n",
    "**df** - очищенные данные\n",
    "\n",
    "**mapping_matrix_id** - таблица соответствия user_id и numeric_user_id\n",
    "\n",
    "**mapping_matrix_trackable** - таблица соответствия trackable_name и numeric_trackable_name"
   ]
  },
  {
   "cell_type": "code",
   "execution_count": 2,
   "metadata": {},
   "outputs": [],
   "source": [
    "DF_NAME=\"df_condition\"\n",
    "\n",
    "min_num_of_records = 20\n",
    "min_trackable_name_count = 50\n",
    "min_num_of_dates = 6\n",
    "\n",
    "NUM_TOP_K = 1000"
   ]
  },
  {
   "cell_type": "markdown",
   "metadata": {},
   "source": [
    "**def clean_df(df)**\n",
    "\n",
    "1. Удаляем, где у юзеров нет age/sex/country (данных достаточно)\n",
    "2. Подсчитываем количество встречаемости trackable_name\n",
    "3. Выбираем записи, где количество встречаемости trackable_name > **min_trackable_name_count**\n",
    "4. Удаляем ненужные колонки\n",
    "5. Подсчитываем количество записей на каждого юзера и фильтруем count_of_records >= **min_num_of_records**\n",
    "6. Оставляем в df_clean только отфильтрованные user_id\n",
    "7. Фильтруем, что у пользователя количество дат записей >= **min_num_of_dates**\n",
    "8. Созлаем матрицы соответствия для 'user_id' и 'trackable_name'\n",
    "9. Удаляем столбцы 'user_id' и 'trackable_name' - у нас есть матрицы соответствия\n",
    "10. Меняем порядок колонок\n"
   ]
  },
  {
   "cell_type": "code",
   "execution_count": 3,
   "metadata": {},
   "outputs": [
    {
     "name": "stdout",
     "output_type": "stream",
     "text": [
      "Percent of saved rows = 72.96% or 810981 rows\n"
     ]
    }
   ],
   "source": [
    "\n",
    "def clean_df(df):\n",
    "    \n",
    "    # proc.list_methods()\n",
    "    df.columns = [col.lower() for col in df.columns]\n",
    "    # Удаляем, где у юзеров нет age/sex/country (данных достаточно)\n",
    "    df_new = df.dropna(subset=['age', 'sex','country'])\n",
    "    # Подсчитываем количество встречаемости trackable_name\n",
    "    df_count_trackable_name = proc.calculate_counttable_by_columnname(df,\"trackable_name\").sort_values(by='count', ascending=False)\n",
    "    # Выбираем записи, где количество встречаемости trackable_name > min_trackable_name_count\n",
    "    df_clean = proc.delete_rows_with_higher_count(df=df_new, df_count=df_count_trackable_name, min_count=min_trackable_name_count, col='trackable_name')\n",
    "    # Удаляем ненужные колонки\n",
    "    df_clean = proc.drop_columns_by_columnsnames(df_clean, ['count', 'trackable_type'])\n",
    "    # Подсчитываем количество записей на каждого юзера и фильтруем count_of_records >= min_num_of_records\n",
    "    filtered_users_with_counts = proc.filter_by_min_records(df_clean, min_num_of_records)\n",
    "    # Оставляем в df_clean только отфильтрованные user_id\n",
    "    df_clean = df_clean[df_clean['user_id'].isin(filtered_users_with_counts[\"user_id\"])]\n",
    "    # Фильтруем, что у пользователя количество дат записей >= min_num_of_dates\n",
    "    df_clean = proc.filter_by_min_number_of_dates(df_clean, min_num_of_dates)\n",
    "\n",
    "    # Create mapping matrices for 'user_id' and 'trackable_name'\n",
    "    mapping_matrix_id, df_cleaned = proc.create_mapping_matrix(df_clean, 'user_id')\n",
    "    mapping_matrix_trackable, df_cleaned = proc.create_mapping_matrix(df_clean, 'trackable_name')\n",
    "   \n",
    "    # Удаляем столбцы 'user_id' и 'trackable_name' - у нас есть матрицы соответствия\n",
    "    df_c = proc.drop_columns_by_columnsnames(df_cleaned,['user_id','trackable_name'])\n",
    "\n",
    "    # Меняем порядок колонок\n",
    "    new_order = ['numeric_user_id', 'age', 'sex','country','checkin_date','numeric_trackable_name','trackable_value']\n",
    "    df_c = df_c.reindex(columns=new_order)\n",
    "\n",
    "    return df_c, mapping_matrix_id, mapping_matrix_trackable\n",
    "\n",
    "raw_data = proc.load_csv(DF_NAME)\n",
    "\n",
    "df_cleaned, mapping_matrix_id, mapping_matrix_trackable = clean_df(raw_data.copy())\n",
    "\n",
    "print(\"Percent of saved rows = {percent:.2f}% or {num:d} rows\".format(percent=df_cleaned.shape[0]*100/raw_data.shape[0], num=df_cleaned.shape[0]))"
   ]
  },
  {
   "cell_type": "code",
   "execution_count": 4,
   "metadata": {},
   "outputs": [
    {
     "data": {
      "text/html": [
       "<div>\n",
       "<style scoped>\n",
       "    .dataframe tbody tr th:only-of-type {\n",
       "        vertical-align: middle;\n",
       "    }\n",
       "\n",
       "    .dataframe tbody tr th {\n",
       "        vertical-align: top;\n",
       "    }\n",
       "\n",
       "    .dataframe thead th {\n",
       "        text-align: right;\n",
       "    }\n",
       "</style>\n",
       "<table border=\"1\" class=\"dataframe\">\n",
       "  <thead>\n",
       "    <tr style=\"text-align: right;\">\n",
       "      <th></th>\n",
       "      <th>trackable_name</th>\n",
       "      <th>numeric_trackable_name</th>\n",
       "    </tr>\n",
       "  </thead>\n",
       "  <tbody>\n",
       "    <tr>\n",
       "      <th>0</th>\n",
       "      <td>ulcerative colitis</td>\n",
       "      <td>0</td>\n",
       "    </tr>\n",
       "    <tr>\n",
       "      <th>1</th>\n",
       "      <td>headache</td>\n",
       "      <td>1</td>\n",
       "    </tr>\n",
       "    <tr>\n",
       "      <th>2</th>\n",
       "      <td>diziness</td>\n",
       "      <td>2</td>\n",
       "    </tr>\n",
       "    <tr>\n",
       "      <th>3</th>\n",
       "      <td>obsessivecompulsive disorder</td>\n",
       "      <td>3</td>\n",
       "    </tr>\n",
       "    <tr>\n",
       "      <th>4</th>\n",
       "      <td>ovarian cysts</td>\n",
       "      <td>4</td>\n",
       "    </tr>\n",
       "    <tr>\n",
       "      <th>...</th>\n",
       "      <td>...</td>\n",
       "      <td>...</td>\n",
       "    </tr>\n",
       "    <tr>\n",
       "      <th>1494</th>\n",
       "      <td>bad balance</td>\n",
       "      <td>1494</td>\n",
       "    </tr>\n",
       "    <tr>\n",
       "      <th>1495</th>\n",
       "      <td>chronic allergic rhinitis</td>\n",
       "      <td>1495</td>\n",
       "    </tr>\n",
       "    <tr>\n",
       "      <th>1496</th>\n",
       "      <td>self control around food</td>\n",
       "      <td>1496</td>\n",
       "    </tr>\n",
       "    <tr>\n",
       "      <th>1497</th>\n",
       "      <td>attention span</td>\n",
       "      <td>1497</td>\n",
       "    </tr>\n",
       "    <tr>\n",
       "      <th>1498</th>\n",
       "      <td>menstrual issues</td>\n",
       "      <td>1498</td>\n",
       "    </tr>\n",
       "  </tbody>\n",
       "</table>\n",
       "<p>1499 rows × 2 columns</p>\n",
       "</div>"
      ],
      "text/plain": [
       "                    trackable_name  numeric_trackable_name\n",
       "0               ulcerative colitis                       0\n",
       "1                         headache                       1\n",
       "2                         diziness                       2\n",
       "3     obsessivecompulsive disorder                       3\n",
       "4                    ovarian cysts                       4\n",
       "...                            ...                     ...\n",
       "1494                   bad balance                    1494\n",
       "1495     chronic allergic rhinitis                    1495\n",
       "1496      self control around food                    1496\n",
       "1497                attention span                    1497\n",
       "1498              menstrual issues                    1498\n",
       "\n",
       "[1499 rows x 2 columns]"
      ]
     },
     "execution_count": 4,
     "metadata": {},
     "output_type": "execute_result"
    }
   ],
   "source": [
    "mapping_matrix_trackable"
   ]
  },
  {
   "cell_type": "markdown",
   "metadata": {},
   "source": [
    "## Split to train_df, val_df, test_df\n",
    "\n",
    "my_test: 70% : 15% : 15% (по датам)\n",
    "\n",
    "**train** = percent*100% ; **val** = (1-percent)*100/2% ; **test** = (1-percent)*100/2%"
   ]
  },
  {
   "cell_type": "code",
   "execution_count": 5,
   "metadata": {},
   "outputs": [],
   "source": [
    "df = df_cleaned.copy()\n",
    "\n",
    "train_df, val_df, test_df = fals.split_to_train_val_test(df,percent_train=0.70)"
   ]
  },
  {
   "cell_type": "markdown",
   "metadata": {},
   "source": [
    "### info about df's"
   ]
  },
  {
   "cell_type": "code",
   "execution_count": 6,
   "metadata": {},
   "outputs": [
    {
     "name": "stdout",
     "output_type": "stream",
     "text": [
      "raw_data:    users: 38308, items:  8981, interactions: 1111517\n",
      "df_cleaned:  users:  4892, items:  1499, interactions:  810981\n",
      "train_df:    users:  4892, items:  1493, interactions:  547975\n",
      "val_df:      users:  4892, items:  1490, interactions:  125800\n",
      "test_df:     users:  4892, items:  1485, interactions:  137206\n"
     ]
    }
   ],
   "source": [
    "def print_df_info(df, id='numeric_user_id', tr='numeric_trackable_name'):\n",
    "    users, items, interactions = df[id].nunique(), df[tr].nunique(), df.shape[0]\n",
    "    # info_str = '# users: ' + str(users) + ' # items: ' + str(items) + ' # interactions: ' + str(interactions)\n",
    "    str = \"\"\"users: {us:5}, items: {it:5}, interactions: {inter:7}\"\"\".format(us=users, it=items, inter=interactions)\n",
    "    return str\n",
    "\n",
    "print(\"raw_data:   \", print_df_info(raw_data, id='user_id', tr='trackable_name'))\n",
    "print(\"df_cleaned: \", print_df_info(df_cleaned))\n",
    "print(\"train_df:   \", print_df_info(train_df))\n",
    "print(\"val_df:     \", print_df_info(val_df))\n",
    "print(\"test_df:    \", print_df_info(test_df))"
   ]
  },
  {
   "cell_type": "markdown",
   "metadata": {},
   "source": [
    "### test user"
   ]
  },
  {
   "cell_type": "code",
   "execution_count": 7,
   "metadata": {},
   "outputs": [],
   "source": [
    "def user_print(df, test_user):\n",
    "    df_user = dfun.find_row_by_user(df, test_user,  by=\"numeric_user_id\")\n",
    "    return \"Dates: {dates}, Rows: {rows}\".format(dates=df_user['checkin_date'].drop_duplicates().shape[0],rows=df_user.shape[0])\n",
    "\n",
    "def user_df(df, test_user):\n",
    "    df_user = dfun.find_row_by_user(df, test_user,  by=\"numeric_user_id\")\n",
    "    df_sorted = df_user.sort_values(by='checkin_date')\n",
    "    return df_sorted\n",
    "\n",
    "def info_split(train, val, test, test_user):\n",
    "    print(\"TRAIN :\",user_print(train, test_user))\n",
    "    print(\"VALID :\",user_print(val, test_user))\n",
    "    print(\"TEST  :\",user_print(test, test_user))\n",
    "    pass"
   ]
  },
  {
   "cell_type": "code",
   "execution_count": 8,
   "metadata": {},
   "outputs": [
    {
     "name": "stdout",
     "output_type": "stream",
     "text": [
      "TRAIN : Dates: 20, Rows: 74\n",
      "VALID : Dates: 4, Rows: 16\n",
      "TEST  : Dates: 5, Rows: 20\n"
     ]
    }
   ],
   "source": [
    "test_user_id = 14\n",
    "info_split(train_df, val_df, test_df, test_user_id)"
   ]
  },
  {
   "cell_type": "code",
   "execution_count": 9,
   "metadata": {},
   "outputs": [],
   "source": [
    "# user_df(train_df,test_user_id)\n",
    "# user_df(test_df,test_user_id)\n",
    "# user_df(val_df,test_user_id)"
   ]
  },
  {
   "cell_type": "markdown",
   "metadata": {},
   "source": [
    "## Creation of user_item_matrix\n",
    "\n",
    "**user_item_matrix** = user_ids x top_k"
   ]
  },
  {
   "cell_type": "code",
   "execution_count": 10,
   "metadata": {},
   "outputs": [],
   "source": [
    "# выбираем топ по количеству встречаемости\n",
    "def top_table_by_count(df, top_k):\n",
    "    popularity = proc.calculate_counttable_by_columnname(df,'numeric_trackable_name')\n",
    "    top = popularity.sort_values('count', ascending=False).head(top_k)\n",
    "    return top\n",
    "\n",
    "top_k = top_table_by_count(train_df, NUM_TOP_K)\n",
    "top_k_list = top_k.numeric_trackable_name.tolist()\n",
    "# top_k.sort_values(by='numeric_trackable_name', ascending=False).head(10)\n",
    "# top_k"
   ]
  },
  {
   "cell_type": "code",
   "execution_count": 11,
   "metadata": {},
   "outputs": [],
   "source": [
    "# замена редко встречающихся диагнозов на 999999\n",
    "train_df.loc[~train_df['numeric_trackable_name'].isin(top_k_list), 'numeric_trackable_name'] = 999999\n",
    "# train_df.numeric_trackable_name.unique().shape[0]"
   ]
  },
  {
   "cell_type": "code",
   "execution_count": 12,
   "metadata": {},
   "outputs": [
    {
     "data": {
      "text/html": [
       "<div>\n",
       "<style scoped>\n",
       "    .dataframe tbody tr th:only-of-type {\n",
       "        vertical-align: middle;\n",
       "    }\n",
       "\n",
       "    .dataframe tbody tr th {\n",
       "        vertical-align: top;\n",
       "    }\n",
       "\n",
       "    .dataframe thead th {\n",
       "        text-align: right;\n",
       "    }\n",
       "</style>\n",
       "<table border=\"1\" class=\"dataframe\">\n",
       "  <thead>\n",
       "    <tr style=\"text-align: right;\">\n",
       "      <th>numeric_trackable_name</th>\n",
       "      <th>0</th>\n",
       "      <th>1</th>\n",
       "      <th>3</th>\n",
       "      <th>4</th>\n",
       "      <th>5</th>\n",
       "      <th>6</th>\n",
       "      <th>7</th>\n",
       "      <th>8</th>\n",
       "      <th>9</th>\n",
       "      <th>10</th>\n",
       "      <th>...</th>\n",
       "      <th>1483</th>\n",
       "      <th>1484</th>\n",
       "      <th>1488</th>\n",
       "      <th>1489</th>\n",
       "      <th>1490</th>\n",
       "      <th>1491</th>\n",
       "      <th>1492</th>\n",
       "      <th>1493</th>\n",
       "      <th>1495</th>\n",
       "      <th>999999</th>\n",
       "    </tr>\n",
       "    <tr>\n",
       "      <th>numeric_user_id</th>\n",
       "      <th></th>\n",
       "      <th></th>\n",
       "      <th></th>\n",
       "      <th></th>\n",
       "      <th></th>\n",
       "      <th></th>\n",
       "      <th></th>\n",
       "      <th></th>\n",
       "      <th></th>\n",
       "      <th></th>\n",
       "      <th></th>\n",
       "      <th></th>\n",
       "      <th></th>\n",
       "      <th></th>\n",
       "      <th></th>\n",
       "      <th></th>\n",
       "      <th></th>\n",
       "      <th></th>\n",
       "      <th></th>\n",
       "      <th></th>\n",
       "      <th></th>\n",
       "    </tr>\n",
       "  </thead>\n",
       "  <tbody>\n",
       "    <tr>\n",
       "      <th>0</th>\n",
       "      <td>4.0</td>\n",
       "      <td>0.0</td>\n",
       "      <td>0.0</td>\n",
       "      <td>0.0</td>\n",
       "      <td>0.0</td>\n",
       "      <td>0.0</td>\n",
       "      <td>0.0</td>\n",
       "      <td>0.0</td>\n",
       "      <td>4.0</td>\n",
       "      <td>0.0</td>\n",
       "      <td>...</td>\n",
       "      <td>0.0</td>\n",
       "      <td>0.0</td>\n",
       "      <td>0.0</td>\n",
       "      <td>0.0</td>\n",
       "      <td>0.0</td>\n",
       "      <td>0.0</td>\n",
       "      <td>0.0</td>\n",
       "      <td>0.0</td>\n",
       "      <td>0.0</td>\n",
       "      <td>0.0</td>\n",
       "    </tr>\n",
       "    <tr>\n",
       "      <th>1</th>\n",
       "      <td>2.0</td>\n",
       "      <td>0.0</td>\n",
       "      <td>0.0</td>\n",
       "      <td>0.0</td>\n",
       "      <td>0.0</td>\n",
       "      <td>0.0</td>\n",
       "      <td>0.0</td>\n",
       "      <td>10.0</td>\n",
       "      <td>0.0</td>\n",
       "      <td>0.0</td>\n",
       "      <td>...</td>\n",
       "      <td>0.0</td>\n",
       "      <td>0.0</td>\n",
       "      <td>0.0</td>\n",
       "      <td>0.0</td>\n",
       "      <td>0.0</td>\n",
       "      <td>0.0</td>\n",
       "      <td>0.0</td>\n",
       "      <td>0.0</td>\n",
       "      <td>0.0</td>\n",
       "      <td>0.0</td>\n",
       "    </tr>\n",
       "    <tr>\n",
       "      <th>2</th>\n",
       "      <td>1.0</td>\n",
       "      <td>0.0</td>\n",
       "      <td>0.0</td>\n",
       "      <td>0.0</td>\n",
       "      <td>0.0</td>\n",
       "      <td>0.0</td>\n",
       "      <td>0.0</td>\n",
       "      <td>0.0</td>\n",
       "      <td>3.0</td>\n",
       "      <td>0.0</td>\n",
       "      <td>...</td>\n",
       "      <td>0.0</td>\n",
       "      <td>0.0</td>\n",
       "      <td>0.0</td>\n",
       "      <td>0.0</td>\n",
       "      <td>0.0</td>\n",
       "      <td>0.0</td>\n",
       "      <td>0.0</td>\n",
       "      <td>0.0</td>\n",
       "      <td>0.0</td>\n",
       "      <td>0.0</td>\n",
       "    </tr>\n",
       "    <tr>\n",
       "      <th>3</th>\n",
       "      <td>141.0</td>\n",
       "      <td>0.0</td>\n",
       "      <td>0.0</td>\n",
       "      <td>0.0</td>\n",
       "      <td>0.0</td>\n",
       "      <td>0.0</td>\n",
       "      <td>0.0</td>\n",
       "      <td>0.0</td>\n",
       "      <td>0.0</td>\n",
       "      <td>0.0</td>\n",
       "      <td>...</td>\n",
       "      <td>0.0</td>\n",
       "      <td>0.0</td>\n",
       "      <td>0.0</td>\n",
       "      <td>0.0</td>\n",
       "      <td>0.0</td>\n",
       "      <td>0.0</td>\n",
       "      <td>0.0</td>\n",
       "      <td>0.0</td>\n",
       "      <td>0.0</td>\n",
       "      <td>0.0</td>\n",
       "    </tr>\n",
       "    <tr>\n",
       "      <th>4</th>\n",
       "      <td>0.0</td>\n",
       "      <td>0.0</td>\n",
       "      <td>0.0</td>\n",
       "      <td>0.0</td>\n",
       "      <td>0.0</td>\n",
       "      <td>0.0</td>\n",
       "      <td>0.0</td>\n",
       "      <td>0.0</td>\n",
       "      <td>0.0</td>\n",
       "      <td>0.0</td>\n",
       "      <td>...</td>\n",
       "      <td>0.0</td>\n",
       "      <td>0.0</td>\n",
       "      <td>0.0</td>\n",
       "      <td>0.0</td>\n",
       "      <td>0.0</td>\n",
       "      <td>0.0</td>\n",
       "      <td>0.0</td>\n",
       "      <td>0.0</td>\n",
       "      <td>0.0</td>\n",
       "      <td>0.0</td>\n",
       "    </tr>\n",
       "  </tbody>\n",
       "</table>\n",
       "<p>5 rows × 1001 columns</p>\n",
       "</div>"
      ],
      "text/plain": [
       "numeric_trackable_name  0       1       3       4       5       6       \\\n",
       "numeric_user_id                                                          \n",
       "0                          4.0     0.0     0.0     0.0     0.0     0.0   \n",
       "1                          2.0     0.0     0.0     0.0     0.0     0.0   \n",
       "2                          1.0     0.0     0.0     0.0     0.0     0.0   \n",
       "3                        141.0     0.0     0.0     0.0     0.0     0.0   \n",
       "4                          0.0     0.0     0.0     0.0     0.0     0.0   \n",
       "\n",
       "numeric_trackable_name  7       8       9       10      ...  1483    1484    \\\n",
       "numeric_user_id                                         ...                   \n",
       "0                          0.0     0.0     4.0     0.0  ...     0.0     0.0   \n",
       "1                          0.0    10.0     0.0     0.0  ...     0.0     0.0   \n",
       "2                          0.0     0.0     3.0     0.0  ...     0.0     0.0   \n",
       "3                          0.0     0.0     0.0     0.0  ...     0.0     0.0   \n",
       "4                          0.0     0.0     0.0     0.0  ...     0.0     0.0   \n",
       "\n",
       "numeric_trackable_name  1488    1489    1490    1491    1492    1493    \\\n",
       "numeric_user_id                                                          \n",
       "0                          0.0     0.0     0.0     0.0     0.0     0.0   \n",
       "1                          0.0     0.0     0.0     0.0     0.0     0.0   \n",
       "2                          0.0     0.0     0.0     0.0     0.0     0.0   \n",
       "3                          0.0     0.0     0.0     0.0     0.0     0.0   \n",
       "4                          0.0     0.0     0.0     0.0     0.0     0.0   \n",
       "\n",
       "numeric_trackable_name  1495    999999  \n",
       "numeric_user_id                         \n",
       "0                          0.0     0.0  \n",
       "1                          0.0     0.0  \n",
       "2                          0.0     0.0  \n",
       "3                          0.0     0.0  \n",
       "4                          0.0     0.0  \n",
       "\n",
       "[5 rows x 1001 columns]"
      ]
     },
     "execution_count": 12,
     "metadata": {},
     "output_type": "execute_result"
    }
   ],
   "source": [
    "user_item_matrix = pd.pivot_table(train_df, \n",
    "                                  index='numeric_user_id', columns='numeric_trackable_name', \n",
    "                                  values='trackable_value', \n",
    "                                  aggfunc='count', \n",
    "                                  fill_value=0\n",
    "                                 )\n",
    " \n",
    "user_item_matrix = user_item_matrix.astype(float) \n",
    "sparse_user_item = csr_matrix(user_item_matrix).tocsr()\n",
    "\n",
    "user_item_matrix.head()"
   ]
  },
  {
   "cell_type": "markdown",
   "metadata": {},
   "source": [
    "## Model ALS"
   ]
  },
  {
   "cell_type": "code",
   "execution_count": 13,
   "metadata": {},
   "outputs": [],
   "source": [
    "# Матричная факторизация\n",
    "from implicit.als import AlternatingLeastSquares\n",
    "from implicit.nearest_neighbours import bm25_weight, tfidf_weight\n",
    " "
   ]
  },
  {
   "cell_type": "code",
   "execution_count": 14,
   "metadata": {},
   "outputs": [],
   "source": [
    "itemid_to_id, userid_to_id, id_to_itemid, id_to_userid = fals.some_ids_preparation_to_als(user_item_matrix)"
   ]
  },
  {
   "cell_type": "code",
   "execution_count": 15,
   "metadata": {},
   "outputs": [
    {
     "data": {
      "text/html": [
       "<div>\n",
       "<style scoped>\n",
       "    .dataframe tbody tr th:only-of-type {\n",
       "        vertical-align: middle;\n",
       "    }\n",
       "\n",
       "    .dataframe tbody tr th {\n",
       "        vertical-align: top;\n",
       "    }\n",
       "\n",
       "    .dataframe thead th {\n",
       "        text-align: right;\n",
       "    }\n",
       "</style>\n",
       "<table border=\"1\" class=\"dataframe\">\n",
       "  <thead>\n",
       "    <tr style=\"text-align: right;\">\n",
       "      <th></th>\n",
       "      <th>numeric_user_id</th>\n",
       "      <th>actual</th>\n",
       "    </tr>\n",
       "  </thead>\n",
       "  <tbody>\n",
       "    <tr>\n",
       "      <th>0</th>\n",
       "      <td>0</td>\n",
       "      <td>[95]</td>\n",
       "    </tr>\n",
       "    <tr>\n",
       "      <th>1</th>\n",
       "      <td>1</td>\n",
       "      <td>[8, 271, 25]</td>\n",
       "    </tr>\n",
       "    <tr>\n",
       "      <th>2</th>\n",
       "      <td>2</td>\n",
       "      <td>[136, 195, 15]</td>\n",
       "    </tr>\n",
       "    <tr>\n",
       "      <th>3</th>\n",
       "      <td>3</td>\n",
       "      <td>[0, 109, 313, 21]</td>\n",
       "    </tr>\n",
       "    <tr>\n",
       "      <th>4</th>\n",
       "      <td>4</td>\n",
       "      <td>[132, 388, 11, 118, 97, 121, 147, 61, 0]</td>\n",
       "    </tr>\n",
       "    <tr>\n",
       "      <th>5</th>\n",
       "      <td>5</td>\n",
       "      <td>[0]</td>\n",
       "    </tr>\n",
       "  </tbody>\n",
       "</table>\n",
       "</div>"
      ],
      "text/plain": [
       "   numeric_user_id                                    actual\n",
       "0                0                                      [95]\n",
       "1                1                              [8, 271, 25]\n",
       "2                2                            [136, 195, 15]\n",
       "3                3                         [0, 109, 313, 21]\n",
       "4                4  [132, 388, 11, 118, 97, 121, 147, 61, 0]\n",
       "5                5                                       [0]"
      ]
     },
     "execution_count": 15,
     "metadata": {},
     "output_type": "execute_result"
    }
   ],
   "source": [
    "userid = 'numeric_user_id'\n",
    "itemid = 'numeric_trackable_name'\n",
    "# pd.set_option('display.max_colwidth', None)\n",
    "\n",
    "result = test_df.groupby(userid)[itemid].unique().reset_index()\n",
    "result.columns=[userid, 'actual']\n",
    "result.head(6)"
   ]
  },
  {
   "cell_type": "code",
   "execution_count": 16,
   "metadata": {},
   "outputs": [
    {
     "name": "stderr",
     "output_type": "stream",
     "text": [
      "/Users/kaledinaoa/anaconda3/lib/python3.11/site-packages/implicit/cpu/als.py:95: RuntimeWarning: OpenBLAS is configured to use 8 threads. It is highly recommended to disable its internal threadpool by setting the environment variable 'OPENBLAS_NUM_THREADS=1' or by calling 'threadpoolctl.threadpool_limits(1, \"blas\")'. Having OpenBLAS use a threadpool can lead to severe performance issues here.\n",
      "  check_blas_config()\n"
     ]
    },
    {
     "data": {
      "application/vnd.jupyter.widget-view+json": {
       "model_id": "9eaa7cb47fec40eaaaee5fd4fa5ae039",
       "version_major": 2,
       "version_minor": 0
      },
      "text/plain": [
       "  0%|          | 0/30 [00:00<?, ?it/s]"
      ]
     },
     "metadata": {},
     "output_type": "display_data"
    },
    {
     "name": "stdout",
     "output_type": "stream",
     "text": [
      "CPU times: user 57 s, sys: 1.99 s, total: 59 s\n",
      "Wall time: 8.28 s\n"
     ]
    }
   ],
   "source": [
    "%%time \n",
    "\n",
    "def building_model(factors):\n",
    "    model_als = AlternatingLeastSquares(factors=factors, # скрытые факторы\n",
    "                                    regularization=0.001, # регуляризация, от переобучения модели\n",
    "                                    iterations=30, \n",
    "                                    calculate_training_loss=True, \n",
    "                                    num_threads=4)\n",
    "    \n",
    "    model_als.fit(csr_matrix(user_item_matrix).tocsr(), show_progress=True)\n",
    "    return model_als\n",
    "\n",
    "model_als = building_model(200)"
   ]
  },
  {
   "cell_type": "code",
   "execution_count": 17,
   "metadata": {},
   "outputs": [
    {
     "name": "stdout",
     "output_type": "stream",
     "text": [
      "item_factors: (1001, 200)\n",
      "user_factors: (4892, 200)\n"
     ]
    }
   ],
   "source": [
    "model = model_als\n",
    "\n",
    "# MODEL INFORMATION\n",
    "print('item_factors:', model.item_factors.shape)\n",
    "print('user_factors:', model.user_factors.shape)\n",
    "\n",
    "# эмбеддинги items\n",
    "item_factors=pd.DataFrame(model.item_factors)\n",
    "\n",
    "# эмбеддинги users\n",
    "user_factors=pd.DataFrame(model.user_factors)\n",
    "# user_factors.head(3)"
   ]
  },
  {
   "cell_type": "markdown",
   "metadata": {},
   "source": [
    "### umap"
   ]
  },
  {
   "cell_type": "code",
   "execution_count": 18,
   "metadata": {},
   "outputs": [],
   "source": [
    "import umap\n",
    "\n",
    "reducer = umap.UMAP(n_components=2) # to 2-dimension\n",
    "umap_embeddings_users = reducer.fit_transform(user_factors)\n",
    "umap_embeddings_items = reducer.fit_transform(item_factors)"
   ]
  },
  {
   "cell_type": "markdown",
   "metadata": {},
   "source": [
    "### figure"
   ]
  },
  {
   "cell_type": "code",
   "execution_count": 19,
   "metadata": {},
   "outputs": [
    {
     "data": {
      "image/png": "[encoded data removed]",
      "text/plain": [
       "<Figure size 720x504 with 1 Axes>"
      ]
     },
     "metadata": {
      "needs_background": "light"
     },
     "output_type": "display_data"
    }
   ],
   "source": [
    "fals.figure_umap_embeddings(model, umap_embeddings_users, 'UMAP Visualization of User Embeddings')"
   ]
  },
  {
   "cell_type": "markdown",
   "metadata": {},
   "source": [
    "## Clustering"
   ]
  },
  {
   "cell_type": "markdown",
   "metadata": {},
   "source": [
    "#### KMeans"
   ]
  },
  {
   "cell_type": "code",
   "execution_count": 20,
   "metadata": {},
   "outputs": [],
   "source": [
    "# kmeans_labels, kmeans_cosim_df, n_clusters = cl.print_kmeans(umap_embeddings_users, 29)\n",
    "# kmeans_cosim_df"
   ]
  },
  {
   "cell_type": "markdown",
   "metadata": {},
   "source": [
    "#### DBSCAN"
   ]
  },
  {
   "cell_type": "code",
   "execution_count": 21,
   "metadata": {},
   "outputs": [
    {
     "name": "stdout",
     "output_type": "stream",
     "text": [
      "[ True  True  True ...  True  True  True]\n",
      "Estimated number of clusters: 29\n",
      "Estimated number of noise points: 56\n",
      "Silhouette Coefficient: 0.466\n"
     ]
    },
    {
     "data": {
      "image/png": "[encoded data removed]",
      "text/plain": [
       "<Figure size 1440x720 with 1 Axes>"
      ]
     },
     "metadata": {
      "needs_background": "light"
     },
     "output_type": "display_data"
    }
   ],
   "source": [
    "db_labels, db_cosim_df, n_clusters = cl.print_dbscan(umap_embeddings_users, 10)"
   ]
  },
  {
   "cell_type": "code",
   "execution_count": 22,
   "metadata": {},
   "outputs": [
    {
     "data": {
      "text/html": [
       "<div>\n",
       "<style scoped>\n",
       "    .dataframe tbody tr th:only-of-type {\n",
       "        vertical-align: middle;\n",
       "    }\n",
       "\n",
       "    .dataframe tbody tr th {\n",
       "        vertical-align: top;\n",
       "    }\n",
       "\n",
       "    .dataframe thead th {\n",
       "        text-align: right;\n",
       "    }\n",
       "</style>\n",
       "<table border=\"1\" class=\"dataframe\">\n",
       "  <thead>\n",
       "    <tr style=\"text-align: right;\">\n",
       "      <th></th>\n",
       "      <th>Cluster #</th>\n",
       "      <th>Cosine Similarity</th>\n",
       "    </tr>\n",
       "  </thead>\n",
       "  <tbody>\n",
       "    <tr>\n",
       "      <th>0</th>\n",
       "      <td>0</td>\n",
       "      <td>0.999085</td>\n",
       "    </tr>\n",
       "    <tr>\n",
       "      <th>1</th>\n",
       "      <td>1</td>\n",
       "      <td>0.993635</td>\n",
       "    </tr>\n",
       "  </tbody>\n",
       "</table>\n",
       "</div>"
      ],
      "text/plain": [
       "   Cluster #  Cosine Similarity\n",
       "0          0           0.999085\n",
       "1          1           0.993635"
      ]
     },
     "execution_count": 22,
     "metadata": {},
     "output_type": "execute_result"
    }
   ],
   "source": [
    "db_cosim_df.head(2)"
   ]
  },
  {
   "cell_type": "code",
   "execution_count": 23,
   "metadata": {},
   "outputs": [],
   "source": [
    "train_df_with_clusters = cl.create_df_with_cl(umap_embeddings_users, db_labels, train_df)\n",
    "# train_df_with_clusters.head(2)"
   ]
  },
  {
   "cell_type": "code",
   "execution_count": 24,
   "metadata": {},
   "outputs": [],
   "source": [
    "count_trname_by_cluster = cl.create_count_trname_by_cluster_dict(n_clusters, train_df_with_clusters, result)"
   ]
  },
  {
   "cell_type": "code",
   "execution_count": 25,
   "metadata": {},
   "outputs": [
    {
     "data": {
      "text/html": [
       "<div>\n",
       "<style scoped>\n",
       "    .dataframe tbody tr th:only-of-type {\n",
       "        vertical-align: middle;\n",
       "    }\n",
       "\n",
       "    .dataframe tbody tr th {\n",
       "        vertical-align: top;\n",
       "    }\n",
       "\n",
       "    .dataframe thead th {\n",
       "        text-align: right;\n",
       "    }\n",
       "</style>\n",
       "<table border=\"1\" class=\"dataframe\">\n",
       "  <thead>\n",
       "    <tr style=\"text-align: right;\">\n",
       "      <th></th>\n",
       "      <th>numeric_trackable_name</th>\n",
       "      <th>count</th>\n",
       "    </tr>\n",
       "  </thead>\n",
       "  <tbody>\n",
       "    <tr>\n",
       "      <th>0</th>\n",
       "      <td>11</td>\n",
       "      <td>4267</td>\n",
       "    </tr>\n",
       "    <tr>\n",
       "      <th>1</th>\n",
       "      <td>32</td>\n",
       "      <td>3256</td>\n",
       "    </tr>\n",
       "    <tr>\n",
       "      <th>2</th>\n",
       "      <td>61</td>\n",
       "      <td>2508</td>\n",
       "    </tr>\n",
       "    <tr>\n",
       "      <th>3</th>\n",
       "      <td>75</td>\n",
       "      <td>2362</td>\n",
       "    </tr>\n",
       "    <tr>\n",
       "      <th>4</th>\n",
       "      <td>31</td>\n",
       "      <td>2068</td>\n",
       "    </tr>\n",
       "    <tr>\n",
       "      <th>5</th>\n",
       "      <td>50</td>\n",
       "      <td>1694</td>\n",
       "    </tr>\n",
       "    <tr>\n",
       "      <th>6</th>\n",
       "      <td>39</td>\n",
       "      <td>1665</td>\n",
       "    </tr>\n",
       "    <tr>\n",
       "      <th>7</th>\n",
       "      <td>51</td>\n",
       "      <td>1619</td>\n",
       "    </tr>\n",
       "    <tr>\n",
       "      <th>8</th>\n",
       "      <td>25</td>\n",
       "      <td>1386</td>\n",
       "    </tr>\n",
       "    <tr>\n",
       "      <th>9</th>\n",
       "      <td>16</td>\n",
       "      <td>1304</td>\n",
       "    </tr>\n",
       "  </tbody>\n",
       "</table>\n",
       "</div>"
      ],
      "text/plain": [
       "   numeric_trackable_name  count\n",
       "0                      11   4267\n",
       "1                      32   3256\n",
       "2                      61   2508\n",
       "3                      75   2362\n",
       "4                      31   2068\n",
       "5                      50   1694\n",
       "6                      39   1665\n",
       "7                      51   1619\n",
       "8                      25   1386\n",
       "9                      16   1304"
      ]
     },
     "execution_count": 25,
     "metadata": {},
     "output_type": "execute_result"
    }
   ],
   "source": [
    "count_trname_by_cluster[11].head(10)"
   ]
  },
  {
   "cell_type": "code",
   "execution_count": 31,
   "metadata": {},
   "outputs": [],
   "source": [
    "clusters = cl.create_usual_features_in_clusters(count_trname_by_cluster, threshold_by_item=0.1, threshold_by_main_group=0.8)"
   ]
  },
  {
   "cell_type": "code",
   "execution_count": 27,
   "metadata": {},
   "outputs": [],
   "source": [
    "# clusters\n",
    "# mapping_matrix_trackable.head(12)"
   ]
  },
  {
   "cell_type": "code",
   "execution_count": 32,
   "metadata": {},
   "outputs": [
    {
     "data": {
      "text/html": [
       "<div>\n",
       "<style scoped>\n",
       "    .dataframe tbody tr th:only-of-type {\n",
       "        vertical-align: middle;\n",
       "    }\n",
       "\n",
       "    .dataframe tbody tr th {\n",
       "        vertical-align: top;\n",
       "    }\n",
       "\n",
       "    .dataframe thead th {\n",
       "        text-align: right;\n",
       "    }\n",
       "</style>\n",
       "<table border=\"1\" class=\"dataframe\">\n",
       "  <thead>\n",
       "    <tr style=\"text-align: right;\">\n",
       "      <th></th>\n",
       "      <th>disease_ids</th>\n",
       "    </tr>\n",
       "    <tr>\n",
       "      <th>cluster_id</th>\n",
       "      <th></th>\n",
       "    </tr>\n",
       "  </thead>\n",
       "  <tbody>\n",
       "    <tr>\n",
       "      <th>0</th>\n",
       "      <td>[anxiety, chronic fatigue syndrome, depression]</td>\n",
       "    </tr>\n",
       "    <tr>\n",
       "      <th>1</th>\n",
       "      <td>[ehlersdanlos syndrome]</td>\n",
       "    </tr>\n",
       "    <tr>\n",
       "      <th>2</th>\n",
       "      <td>[rheumatoid arthritis]</td>\n",
       "    </tr>\n",
       "    <tr>\n",
       "      <th>3</th>\n",
       "      <td>[ulcerative colitis, hypothyroidism, acid reflux]</td>\n",
       "    </tr>\n",
       "    <tr>\n",
       "      <th>4</th>\n",
       "      <td>[lupus]</td>\n",
       "    </tr>\n",
       "    <tr>\n",
       "      <th>5</th>\n",
       "      <td>[chronic fatigue syndrome]</td>\n",
       "    </tr>\n",
       "    <tr>\n",
       "      <th>6</th>\n",
       "      <td>[fibromyalgia]</td>\n",
       "    </tr>\n",
       "    <tr>\n",
       "      <th>7</th>\n",
       "      <td>[depression, anxiety]</td>\n",
       "    </tr>\n",
       "    <tr>\n",
       "      <th>8</th>\n",
       "      <td>[endometriosis]</td>\n",
       "    </tr>\n",
       "    <tr>\n",
       "      <th>9</th>\n",
       "      <td>[crohns disease]</td>\n",
       "    </tr>\n",
       "    <tr>\n",
       "      <th>10</th>\n",
       "      <td>[systemic lupus erythematosus]</td>\n",
       "    </tr>\n",
       "    <tr>\n",
       "      <th>11</th>\n",
       "      <td>[migraine, anxiety, asthma, ibs, fatigue, allergies, headaches, joint pain, irritable bowel syndrome, chronic migraines, arthritis, back pain, acid reflux, hashimotos disease, postural orthostatic tachycardia syndrome pots, chest pain]</td>\n",
       "    </tr>\n",
       "    <tr>\n",
       "      <th>12</th>\n",
       "      <td>[depression]</td>\n",
       "    </tr>\n",
       "    <tr>\n",
       "      <th>13</th>\n",
       "      <td>[fibromyalgia, depression]</td>\n",
       "    </tr>\n",
       "    <tr>\n",
       "      <th>14</th>\n",
       "      <td>[fibromyalgia, chronic fatigue syndrome]</td>\n",
       "    </tr>\n",
       "    <tr>\n",
       "      <th>15</th>\n",
       "      <td>[999999]</td>\n",
       "    </tr>\n",
       "    <tr>\n",
       "      <th>16</th>\n",
       "      <td>[lyme disease]</td>\n",
       "    </tr>\n",
       "    <tr>\n",
       "      <th>17</th>\n",
       "      <td>[mecfs, fibromyalgia]</td>\n",
       "    </tr>\n",
       "    <tr>\n",
       "      <th>18</th>\n",
       "      <td>[myalgic encephalomyelitis]</td>\n",
       "    </tr>\n",
       "    <tr>\n",
       "      <th>19</th>\n",
       "      <td>[depression, fibromyalgia]</td>\n",
       "    </tr>\n",
       "    <tr>\n",
       "      <th>20</th>\n",
       "      <td>[mecfs]</td>\n",
       "    </tr>\n",
       "    <tr>\n",
       "      <th>21</th>\n",
       "      <td>[depression, anxiety, fibromyalgia]</td>\n",
       "    </tr>\n",
       "    <tr>\n",
       "      <th>22</th>\n",
       "      <td>[crohns disease, anxiety, depression]</td>\n",
       "    </tr>\n",
       "    <tr>\n",
       "      <th>23</th>\n",
       "      <td>[sjogrens syndrome, systemic lupus erythematosus]</td>\n",
       "    </tr>\n",
       "    <tr>\n",
       "      <th>24</th>\n",
       "      <td>[psoriatic arthritis]</td>\n",
       "    </tr>\n",
       "    <tr>\n",
       "      <th>25</th>\n",
       "      <td>[pans, pandas]</td>\n",
       "    </tr>\n",
       "    <tr>\n",
       "      <th>26</th>\n",
       "      <td>[myalgic encephalomyelitis, fibromyalgia]</td>\n",
       "    </tr>\n",
       "    <tr>\n",
       "      <th>27</th>\n",
       "      <td>[multiple sclerosis]</td>\n",
       "    </tr>\n",
       "    <tr>\n",
       "      <th>28</th>\n",
       "      <td>[postural orthostatic tachycardia syndrome]</td>\n",
       "    </tr>\n",
       "  </tbody>\n",
       "</table>\n",
       "</div>"
      ],
      "text/plain": [
       "                                                                                                                                                                                                                                            disease_ids\n",
       "cluster_id                                                                                                                                                                                                                                             \n",
       "0                                                                                                                                                                                                       [anxiety, chronic fatigue syndrome, depression]\n",
       "1                                                                                                                                                                                                                               [ehlersdanlos syndrome]\n",
       "2                                                                                                                                                                                                                                [rheumatoid arthritis]\n",
       "3                                                                                                                                                                                                     [ulcerative colitis, hypothyroidism, acid reflux]\n",
       "4                                                                                                                                                                                                                                               [lupus]\n",
       "5                                                                                                                                                                                                                            [chronic fatigue syndrome]\n",
       "6                                                                                                                                                                                                                                        [fibromyalgia]\n",
       "7                                                                                                                                                                                                                                 [depression, anxiety]\n",
       "8                                                                                                                                                                                                                                       [endometriosis]\n",
       "9                                                                                                                                                                                                                                      [crohns disease]\n",
       "10                                                                                                                                                                                                                       [systemic lupus erythematosus]\n",
       "11          [migraine, anxiety, asthma, ibs, fatigue, allergies, headaches, joint pain, irritable bowel syndrome, chronic migraines, arthritis, back pain, acid reflux, hashimotos disease, postural orthostatic tachycardia syndrome pots, chest pain]\n",
       "12                                                                                                                                                                                                                                         [depression]\n",
       "13                                                                                                                                                                                                                           [fibromyalgia, depression]\n",
       "14                                                                                                                                                                                                             [fibromyalgia, chronic fatigue syndrome]\n",
       "15                                                                                                                                                                                                                                             [999999]\n",
       "16                                                                                                                                                                                                                                       [lyme disease]\n",
       "17                                                                                                                                                                                                                                [mecfs, fibromyalgia]\n",
       "18                                                                                                                                                                                                                          [myalgic encephalomyelitis]\n",
       "19                                                                                                                                                                                                                           [depression, fibromyalgia]\n",
       "20                                                                                                                                                                                                                                              [mecfs]\n",
       "21                                                                                                                                                                                                                  [depression, anxiety, fibromyalgia]\n",
       "22                                                                                                                                                                                                                [crohns disease, anxiety, depression]\n",
       "23                                                                                                                                                                                                    [sjogrens syndrome, systemic lupus erythematosus]\n",
       "24                                                                                                                                                                                                                                [psoriatic arthritis]\n",
       "25                                                                                                                                                                                                                                       [pans, pandas]\n",
       "26                                                                                                                                                                                                            [myalgic encephalomyelitis, fibromyalgia]\n",
       "27                                                                                                                                                                                                                                 [multiple sclerosis]\n",
       "28                                                                                                                                                                                                          [postural orthostatic tachycardia syndrome]"
      ]
     },
     "execution_count": 32,
     "metadata": {},
     "output_type": "execute_result"
    }
   ],
   "source": [
    "# create clusters with sting dis\n",
    "pd.set_option('display.max_colwidth', None)\n",
    "\n",
    "def create_clusters_disease():\n",
    "    clusters_dis={}\n",
    "    mapping_dict = mapping_matrix_trackable.set_index('numeric_trackable_name')['trackable_name'].to_dict()\n",
    "    for cluster_id, numeric_trackable_names in clusters.items():\n",
    "        clusters_dis[cluster_id] = [mapping_dict.get(numeric_trackable_name, numeric_trackable_name) for numeric_trackable_name in numeric_trackable_names]\n",
    "\n",
    "    df_clusters = pd.DataFrame(clusters_dis.items(), columns=['cluster_id', 'disease_ids'])\n",
    "    df_clusters.set_index('cluster_id', inplace=True)\n",
    "    return df_clusters\n",
    "\n",
    "df_clusters = create_clusters_disease()\n",
    "df_clusters"
   ]
  },
  {
   "cell_type": "markdown",
   "metadata": {},
   "source": [
    "# Model Prediction"
   ]
  },
  {
   "cell_type": "code",
   "execution_count": null,
   "metadata": {},
   "outputs": [],
   "source": []
  },
  {
   "cell_type": "code",
   "execution_count": null,
   "metadata": {},
   "outputs": [],
   "source": [
    "\n",
    "\n"
   ]
  },
  {
   "cell_type": "code",
   "execution_count": null,
   "metadata": {},
   "outputs": [],
   "source": []
  },
  {
   "cell_type": "code",
   "execution_count": null,
   "metadata": {},
   "outputs": [],
   "source": []
  },
  {
   "cell_type": "code",
   "execution_count": null,
   "metadata": {},
   "outputs": [],
   "source": []
  },
  {
   "cell_type": "code",
   "execution_count": null,
   "metadata": {},
   "outputs": [],
   "source": [
    "\n",
    "\n",
    "\n"
   ]
  },
  {
   "cell_type": "code",
   "execution_count": null,
   "metadata": {},
   "outputs": [],
   "source": [
    "\n"
   ]
  },
  {
   "cell_type": "markdown",
   "metadata": {},
   "source": [
    "### prediction"
   ]
  },
  {
   "cell_type": "code",
   "execution_count": null,
   "metadata": {},
   "outputs": [],
   "source": []
  },
  {
   "cell_type": "code",
   "execution_count": null,
   "metadata": {},
   "outputs": [],
   "source": []
  },
  {
   "cell_type": "code",
   "execution_count": null,
   "metadata": {},
   "outputs": [],
   "source": []
  },
  {
   "cell_type": "markdown",
   "metadata": {},
   "source": []
  }
 ],
 "metadata": {
  "kernelspec": {
   "display_name": "base",
   "language": "python",
   "name": "python3"
  },
  "language_info": {
   "codemirror_mode": {
    "name": "ipython",
    "version": 3
   },
   "file_extension": ".py",
   "mimetype": "text/x-python",
   "name": "python",
   "nbconvert_exporter": "python",
   "pygments_lexer": "ipython3",
   "version": "3.11.4"
  }
 },
 "nbformat": 4,
 "nbformat_minor": 2
}
