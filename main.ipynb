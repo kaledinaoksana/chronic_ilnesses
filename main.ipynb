{
 "cells": [
  {
   "cell_type": "code",
   "execution_count": 2,
   "metadata": {},
   "outputs": [],
   "source": [
    "import pandas as pd\n",
    "from scipy.sparse import csr_matrix\n",
    "\n",
    "from models import DfFunctions, ForALS, TimeSeriesProcessor\n",
    "\n",
    "dfun = DfFunctions.DfFunctions()\n",
    "proc = TimeSeriesProcessor.TimeSeriesDataProcessor()\n",
    "fals = ForALS.ForALS()\n",
    "cl = ForALS.Clustering()"
   ]
  },
  {
   "cell_type": "markdown",
   "metadata": {},
   "source": [
    "# DONE\n"
   ]
  },
  {
   "cell_type": "markdown",
   "metadata": {},
   "source": [
    "## Data Cleaning\n",
    "\n",
    "**raw_data** - сырые данные \n",
    "\n",
    "**df** - очищенные данные\n",
    "\n",
    "**mapping_matrix_id** - таблица соответствия user_id и numeric_user_id\n",
    "\n",
    "**mapping_matrix_trackable** - таблица соответствия trackable_name и numeric_trackable_name"
   ]
  },
  {
   "cell_type": "code",
   "execution_count": null,
   "metadata": {},
   "outputs": [],
   "source": [
    "DF_NAME=\"df_condition\"\n",
    "PATH = '/Users/kaledinaoa/data/data_chronic_illness/'\n",
    "\n",
    "min_num_of_records = 20\n",
    "min_trackable_name_count = 50\n",
    "min_num_of_dates = 6\n",
    "\n",
    "NUM_TOP_K = 1000"
   ]
  },
  {
   "cell_type": "markdown",
   "metadata": {},
   "source": [
    "**def clean_df(df)**\n",
    "\n",
    "1. Удаляем, где у юзеров нет age/sex/country (данных достаточно)\n",
    "2. Подсчитываем количество встречаемости trackable_name\n",
    "3. Выбираем записи, где количество встречаемости trackable_name > **min_trackable_name_count**\n",
    "4. Удаляем ненужные колонки\n",
    "5. Подсчитываем количество записей на каждого юзера и фильтруем count_of_records >= **min_num_of_records**\n",
    "6. Оставляем в df_clean только отфильтрованные user_id\n",
    "7. Фильтруем, что у пользователя количество дат записей >= **min_num_of_dates**\n",
    "8. Созлаем матрицы соответствия для 'user_id' и 'trackable_name'\n",
    "9. Удаляем столбцы 'user_id' и 'trackable_name' - у нас есть матрицы соответствия\n",
    "10. Меняем порядок колонок\n"
   ]
  },
  {
   "cell_type": "code",
   "execution_count": null,
   "metadata": {},
   "outputs": [],
   "source": [
    "\n",
    "def clean_df(df):\n",
    "    \n",
    "    # proc.list_methods()\n",
    "    df.columns = [col.lower() for col in df.columns]\n",
    "    # Удаляем, где у юзеров нет age/sex/country (данных достаточно)\n",
    "    df_new = df.dropna(subset=['age', 'sex','country'])\n",
    "    # Подсчитываем количество встречаемости trackable_name\n",
    "    df_count_trackable_name = proc.calculate_counttable_by_columnname(df,\"trackable_name\").sort_values(by='count', ascending=False)\n",
    "    # Выбираем записи, где количество встречаемости trackable_name > min_trackable_name_count\n",
    "    df_clean = proc.delete_rows_with_higher_count(df=df_new, df_count=df_count_trackable_name, min_count=min_trackable_name_count, col='trackable_name')\n",
    "    # Удаляем ненужные колонки\n",
    "    df_clean = proc.drop_columns_by_columnsnames(df_clean, ['count', 'trackable_type'])\n",
    "    # Подсчитываем количество записей на каждого юзера и фильтруем count_of_records >= min_num_of_records\n",
    "    filtered_users_with_counts = proc.filter_by_min_records(df_clean, min_num_of_records)\n",
    "    # Оставляем в df_clean только отфильтрованные user_id\n",
    "    df_clean = df_clean[df_clean['user_id'].isin(filtered_users_with_counts[\"user_id\"])]\n",
    "    # Фильтруем, что у пользователя количество дат записей >= min_num_of_dates\n",
    "    df_clean = proc.filter_by_min_number_of_dates(df_clean, min_num_of_dates)\n",
    "\n",
    "    # Create mapping matrices for 'user_id' and 'trackable_name'\n",
    "    mapping_matrix_id, df_cleaned = proc.create_mapping_matrix(df_clean, 'user_id')\n",
    "    mapping_matrix_trackable, df_cleaned = proc.create_mapping_matrix(df_clean, 'trackable_name')\n",
    "   \n",
    "    # Удаляем столбцы 'user_id' и 'trackable_name' - у нас есть матрицы соответствия\n",
    "    df_c = proc.drop_columns_by_columnsnames(df_cleaned,['user_id'])\n",
    "\n",
    "    # Меняем порядок колонок\n",
    "    new_order = ['numeric_user_id', 'age', 'sex','country','checkin_date','numeric_trackable_name','trackable_name','trackable_value']\n",
    "    df_c = df_c.reindex(columns=new_order)\n",
    "\n",
    "    return df_c, mapping_matrix_id, mapping_matrix_trackable\n",
    "\n",
    "raw_data = proc.load_csv(DF_NAME, PATH)\n",
    "\n",
    "df_cleaned, mapping_matrix_id, mapping_matrix_trackable = clean_df(raw_data.copy())\n",
    "\n",
    "print(f\"Percent of saved rows = {df_cleaned.shape[0]*100/raw_data.shape[0]:.2f}% or {df_cleaned.shape[0]:d} rows\")"
   ]
  },
  {
   "cell_type": "code",
   "execution_count": null,
   "metadata": {},
   "outputs": [],
   "source": [
    "mapping_matrix_trackable"
   ]
  },
  {
   "cell_type": "markdown",
   "metadata": {},
   "source": [
    "## Split to train_df, val_df, test_df\n",
    "\n",
    "my_test: 70% : 15% : 15% (по датам)\n",
    "\n",
    "**train** = percent*100% ; **val** = (1-percent)*100/2% ; **test** = (1-percent)*100/2%"
   ]
  },
  {
   "cell_type": "code",
   "execution_count": null,
   "metadata": {},
   "outputs": [],
   "source": [
    "df = df_cleaned.copy()\n",
    "\n",
    "# train_df, val_df, test_df = fals.split_to_train_val_test_percent(df, percent_train = 0.7)\n",
    "train_df, test_df = fals.split_to_train_test_last_day(df)"
   ]
  },
  {
   "cell_type": "markdown",
   "metadata": {},
   "source": []
  },
  {
   "cell_type": "markdown",
   "metadata": {},
   "source": [
    "### info about df's"
   ]
  },
  {
   "cell_type": "code",
   "execution_count": null,
   "metadata": {},
   "outputs": [],
   "source": [
    "def print_df_info(df, id='numeric_user_id', tr='numeric_trackable_name'):\n",
    "    users, items, interactions = df[id].nunique(), df[tr].nunique(), df.shape[0]\n",
    "    # info_str = '# users: ' + str(users) + ' # items: ' + str(items) + ' # interactions: ' + str(interactions)\n",
    "    str = f\"\"\"users: {users:5}, items: {items:5}, interactions: {interactions:7}\"\"\"\n",
    "    return str\n",
    "\n",
    "print(\"raw_data:   \", print_df_info(raw_data, id='user_id', tr='trackable_name'))\n",
    "print(\"df_cleaned: \", print_df_info(df_cleaned))\n",
    "print(\"train_df:   \", print_df_info(train_df))\n",
    "# print(\"val_df:     \", print_df_info(val_df))\n",
    "print(\"test_df:    \", print_df_info(test_df))"
   ]
  },
  {
   "cell_type": "markdown",
   "metadata": {},
   "source": [
    "### test user"
   ]
  },
  {
   "cell_type": "code",
   "execution_count": null,
   "metadata": {},
   "outputs": [],
   "source": [
    "def user_print(df, test_user):\n",
    "    df_user = dfun.find_row_by_user(df, test_user,  by=\"numeric_user_id\")\n",
    "    return \"Dates: {dates}, Rows: {rows}\".format(dates=df_user['checkin_date'].drop_duplicates().shape[0],rows=df_user.shape[0])\n",
    "\n",
    "def user_df(df, test_user):\n",
    "    df_user = dfun.find_row_by_user(df, test_user,  by=\"numeric_user_id\")\n",
    "    df_sorted = df_user.sort_values(by='checkin_date')\n",
    "    return df_sorted\n",
    "\n",
    "def info_split_with_val(train, val, test, test_user):\n",
    "    print(\"TRAIN :\",user_print(train, test_user))\n",
    "    print(\"VALID :\",user_print(val, test_user))\n",
    "    print(\"TEST  :\",user_print(test, test_user))\n",
    "\n",
    "def info_split(train, test, test_user):\n",
    "    print(\"TRAIN :\",user_print(train, test_user))\n",
    "    print(\"TEST  :\",user_print(test, test_user))"
   ]
  },
  {
   "cell_type": "code",
   "execution_count": null,
   "metadata": {},
   "outputs": [],
   "source": [
    "test_user_id = 3\n",
    "info_split(train_df, test_df, test_user_id)"
   ]
  },
  {
   "cell_type": "code",
   "execution_count": null,
   "metadata": {},
   "outputs": [],
   "source": [
    "# user_df(train_df,test_user_id)\n",
    "# user_df(test_df,test_user_id)\n",
    "# user_df(val_df,test_user_id)"
   ]
  },
  {
   "cell_type": "markdown",
   "metadata": {},
   "source": [
    "## Creation of user_item_matrix\n",
    "\n",
    "**user_item_matrix** = user_ids x top_k"
   ]
  },
  {
   "cell_type": "code",
   "execution_count": null,
   "metadata": {},
   "outputs": [],
   "source": [
    "# выбираем топ по количеству встречаемости\n",
    "def top_table_by_count(df, top_k):\n",
    "    popularity = proc.calculate_counttable_by_columnname(df,'numeric_trackable_name')\n",
    "    top = popularity.sort_values('count', ascending=False).head(top_k)\n",
    "    return top\n",
    "\n",
    "top_k = top_table_by_count(train_df, NUM_TOP_K)\n",
    "top_k_list = top_k.numeric_trackable_name.tolist()\n",
    "# top_k.sort_values(by='numeric_trackable_name', ascending=False).head(10)\n",
    "# top_k"
   ]
  },
  {
   "cell_type": "code",
   "execution_count": null,
   "metadata": {},
   "outputs": [],
   "source": [
    "# замена редко встречающихся диагнозов на 999999\n",
    "train_df.loc[~train_df['numeric_trackable_name'].isin(top_k_list), 'numeric_trackable_name'] = 999999\n",
    "\n",
    "# map_new=train_df[{'numeric_trackable_name','trackable_name'}].drop_duplicates().reset_index().sort_values(by=\"numeric_trackable_name\")\n",
    "# map_new = map_new.drop(columns=['index'])\n",
    "# map_new.head(20)\n",
    "\n",
    "map_new=train_df[{'numeric_trackable_name','trackable_name'}].drop_duplicates().reset_index()\n",
    "map_new = map_new.drop(columns=['index'])\n",
    "map_new = map_new.sort_values(by=\"numeric_trackable_name\").reset_index()\n",
    "map_new = map_new.drop(columns=['index']).reset_index()\n",
    "map_new.head(5)\n",
    "# map_new.sort_value(by=\"numeric_trackable_name\").head(40)"
   ]
  },
  {
   "cell_type": "code",
   "execution_count": null,
   "metadata": {},
   "outputs": [],
   "source": [
    "mapping_matrix_trackable.head()"
   ]
  },
  {
   "cell_type": "code",
   "execution_count": null,
   "metadata": {},
   "outputs": [],
   "source": [
    "train_df.sort_values(by=\"numeric_user_id\").head()"
   ]
  },
  {
   "cell_type": "code",
   "execution_count": null,
   "metadata": {},
   "outputs": [],
   "source": [
    "user_item_matrix = pd.pivot_table(train_df, \n",
    "                                  index='numeric_user_id', columns='numeric_trackable_name', \n",
    "                                  values='trackable_value',\n",
    "                                  aggfunc='sum', \n",
    "                                  fill_value=0\n",
    "                                 )\n",
    " \n",
    "user_item_matrix = user_item_matrix.astype(float) \n",
    "sparse_user_item = csr_matrix(user_item_matrix).tocsr()\n",
    "\n",
    "user_item_matrix.head(10)"
   ]
  },
  {
   "cell_type": "markdown",
   "metadata": {},
   "source": [
    "## Model ALS"
   ]
  },
  {
   "cell_type": "code",
   "execution_count": null,
   "metadata": {},
   "outputs": [],
   "source": [
    "# Матричная факторизация\n",
    "from implicit.als import AlternatingLeastSquares\n",
    " "
   ]
  },
  {
   "cell_type": "code",
   "execution_count": null,
   "metadata": {},
   "outputs": [],
   "source": [
    "itemid_to_id, userid_to_id, id_to_itemid, id_to_userid = fals.some_ids_preparation_to_als(user_item_matrix)"
   ]
  },
  {
   "cell_type": "code",
   "execution_count": null,
   "metadata": {},
   "outputs": [],
   "source": [
    "%%time \n",
    "\n",
    "def building_model(factors):\n",
    "    model_als = AlternatingLeastSquares(factors=factors, # скрытые факторы\n",
    "                                    regularization=0.001, # регуляризация, от переобучения модели\n",
    "                                    iterations=30, \n",
    "                                    calculate_training_loss=True, \n",
    "                                    num_threads=4)\n",
    "    \n",
    "    model_als.fit(csr_matrix(user_item_matrix).tocsr(), show_progress=True)\n",
    "    return model_als\n",
    "\n",
    "model_als = building_model(200)"
   ]
  },
  {
   "cell_type": "code",
   "execution_count": null,
   "metadata": {},
   "outputs": [],
   "source": [
    "model = model_als\n",
    "\n",
    "# MODEL INFORMATION\n",
    "print('item_factors:', model.item_factors.shape)\n",
    "print('user_factors:', model.user_factors.shape)\n",
    "\n",
    "# эмбеддинги items\n",
    "item_factors=pd.DataFrame(model.item_factors)\n",
    "\n",
    "# эмбеддинги users\n",
    "user_factors=pd.DataFrame(model.user_factors)\n",
    "# user_factors.head(3)"
   ]
  },
  {
   "cell_type": "markdown",
   "metadata": {},
   "source": [
    "### umap"
   ]
  },
  {
   "cell_type": "code",
   "execution_count": null,
   "metadata": {},
   "outputs": [],
   "source": [
    "import umap.umap_ as umap\n",
    "\n",
    "reducer = umap.UMAP(n_components=2) # to 2-dimension\n",
    "umap_embeddings_users = reducer.fit_transform(user_factors)\n",
    "umap_embeddings_items = reducer.fit_transform(item_factors)"
   ]
  },
  {
   "cell_type": "markdown",
   "metadata": {},
   "source": [
    "### figure"
   ]
  },
  {
   "cell_type": "code",
   "execution_count": null,
   "metadata": {},
   "outputs": [],
   "source": [
    "fals.figure_umap_embeddings(model, umap_embeddings_users, 'UMAP Visualization of User Embeddings')"
   ]
  },
  {
   "cell_type": "markdown",
   "metadata": {},
   "source": [
    "## Clustering"
   ]
  },
  {
   "cell_type": "markdown",
   "metadata": {},
   "source": [
    "#### KMeans"
   ]
  },
  {
   "cell_type": "code",
   "execution_count": null,
   "metadata": {},
   "outputs": [],
   "source": [
    "# kmeans_labels, kmeans_cosim_df, n_clusters = cl.print_kmeans(umap_embeddings_users, 29)\n",
    "# kmeans_cosim_df"
   ]
  },
  {
   "cell_type": "markdown",
   "metadata": {},
   "source": [
    "#### DBSCAN"
   ]
  },
  {
   "cell_type": "code",
   "execution_count": null,
   "metadata": {},
   "outputs": [],
   "source": [
    "db_labels, db_cosim_df, n_clusters = cl.print_dbscan(umap_embeddings_users, 4)"
   ]
  },
  {
   "cell_type": "code",
   "execution_count": null,
   "metadata": {},
   "outputs": [],
   "source": [
    "db_cosim_df.head()"
   ]
  },
  {
   "cell_type": "code",
   "execution_count": null,
   "metadata": {},
   "outputs": [],
   "source": [
    "train_df_with_clusters = cl.create_df_with_cl(umap_embeddings_users, db_labels, train_df)\n",
    "# train_df_with_clusters.head(2)"
   ]
  },
  {
   "cell_type": "code",
   "execution_count": null,
   "metadata": {},
   "outputs": [],
   "source": [
    "userid = 'numeric_user_id'\n",
    "itemid = 'numeric_trackable_name'\n",
    "# pd.set_option('display.max_colwidth', None)\n",
    "\n",
    "result = test_df.groupby(userid)[itemid].unique().reset_index()\n",
    "result.columns=[userid, 'actual']\n",
    "result.head(6)\n",
    "\n",
    "count_trname_by_cluster = cl.create_count_trname_by_cluster_dict(n_clusters, train_df_with_clusters, result)"
   ]
  },
  {
   "cell_type": "code",
   "execution_count": null,
   "metadata": {},
   "outputs": [],
   "source": [
    "count_trname_by_cluster[12].head(10)"
   ]
  },
  {
   "cell_type": "code",
   "execution_count": null,
   "metadata": {},
   "outputs": [],
   "source": [
    "clusters = cl.create_usual_features_in_clusters(count_trname_by_cluster, threshold_by_item=0.1, threshold_by_main_group=0.5)"
   ]
  },
  {
   "cell_type": "code",
   "execution_count": null,
   "metadata": {},
   "outputs": [],
   "source": [
    "# clusters\n",
    "# mapping_matrix_trackable.head(12)"
   ]
  },
  {
   "cell_type": "code",
   "execution_count": null,
   "metadata": {},
   "outputs": [],
   "source": [
    "# create clusters with sting dis\n",
    "pd.set_option('display.max_colwidth', None)\n",
    "\n",
    "def create_clusters_disease():\n",
    "    clusters_dis={}\n",
    "    mapping_dict = map_new.set_index('numeric_trackable_name')['trackable_name'].to_dict()\n",
    "    for cluster_id, numeric_trackable_names in clusters.items():\n",
    "        clusters_dis[cluster_id] = [mapping_dict.get(numeric_trackable_name, numeric_trackable_name) for numeric_trackable_name in numeric_trackable_names]\n",
    "\n",
    "    df_clusters = pd.DataFrame(clusters_dis.items(), columns=['cluster_id', 'disease_ids'])\n",
    "    df_clusters.set_index('cluster_id', inplace=True)\n",
    "    return df_clusters\n",
    "\n",
    "df_clusters = create_clusters_disease()\n",
    "df_clusters"
   ]
  },
  {
   "cell_type": "markdown",
   "metadata": {},
   "source": [
    "# Model Prediction"
   ]
  },
  {
   "cell_type": "code",
   "execution_count": null,
   "metadata": {},
   "outputs": [],
   "source": [
    "TEST_USER_ID = 999\n",
    "# 30 - norm\n",
    "# 1348 - одни и те же заболевания\n",
    "# 999 - 1 старое не вошло\n",
    "\n",
    "def reccomendation(model, n,  userid, user_item_matrix, userid_to_id):\n",
    "    recs = model.recommend(userid=userid_to_id[userid],  \n",
    "                        user_items=csr_matrix(user_item_matrix.loc[userid_to_id[TEST_USER_ID]]).tocsr(),  \n",
    "                        N=n, \n",
    "                        recalculate_user=True,\n",
    "                        filter_already_liked_items=False)\n",
    "    return recs[0]\n",
    "\n",
    "recs = reccomendation(model_als, 10, TEST_USER_ID, user_item_matrix, userid_to_id)\n",
    "\n",
    "# recs = model_als.recommend(userid=userid_to_id[TEST_USER_ID],  \n",
    "#                         user_items=csr_matrix(user_item_matrix.loc[userid_to_id[TEST_USER_ID]]).tocsr(),  \n",
    "#                         N=10, \n",
    "#                         recalculate_user=True,\n",
    "#                         filter_already_liked_items=False)\n",
    "\n",
    "recs"
   ]
  },
  {
   "cell_type": "code",
   "execution_count": null,
   "metadata": {},
   "outputs": [],
   "source": [
    "cluster = user_df(train_df_with_clusters,TEST_USER_ID)[\"cluster_id\"].unique()[0]\n",
    "opisanie = df_clusters.loc[cluster].iloc[0] \n",
    "print(\"Cluster =\", cluster, \":\", opisanie)"
   ]
  },
  {
   "cell_type": "code",
   "execution_count": null,
   "metadata": {},
   "outputs": [],
   "source": [
    "user_df_train = user_df(train_df,TEST_USER_ID)\n",
    "user_df_test = user_df(test_df,TEST_USER_ID)\n",
    "\n",
    "def sort_df_by_sum_value(df):\n",
    "    df[['numeric_trackable_name','trackable_value']]\n",
    "    df = df.groupby('numeric_trackable_name')['trackable_value'].sum().reset_index()\n",
    "    df = df.sort_values(by='trackable_value', ascending=False)\n",
    "    return df\n",
    "\n",
    "value_user_train = sort_df_by_sum_value(user_df_train)\n",
    "value_user_test = sort_df_by_sum_value(user_df_test)\n",
    "\n",
    "diff_train_test_data = pd.merge(value_user_train,value_user_test, how='outer', on='numeric_trackable_name')\n",
    "diff_train_test_data = diff_train_test_data.rename(columns={'trackable_value_x': 'weight_all','trackable_value_y':'weight_last'})\n",
    "diff_train_test_data = pd.merge(diff_train_test_data,mapping_matrix_trackable, how='left', on='numeric_trackable_name')\n",
    "diff_train_test_data = diff_train_test_data.iloc[:, [0,3,1,2]]\n",
    "\n",
    "diff_train_test_data"
   ]
  },
  {
   "cell_type": "code",
   "execution_count": null,
   "metadata": {},
   "outputs": [],
   "source": [
    "# map_new['index'] - верная матрица теперь для рекомендаций\n",
    "# mapping_matrix_trackable[\"numeric_trackable_name\"] - верная матрица для старых значений"
   ]
  },
  {
   "cell_type": "code",
   "execution_count": null,
   "metadata": {},
   "outputs": [],
   "source": [
    "recomendations = pd.DataFrame({'index': recs})\n",
    "recomendations = recomendations.merge(map_new, on='index', how='left')\n",
    "recomendations = recomendations.drop(columns='index')\n",
    "\n",
    "recomendations.numeric_trackable_name.to_list()"
   ]
  },
  {
   "cell_type": "code",
   "execution_count": null,
   "metadata": {},
   "outputs": [],
   "source": [
    "test_dfd = test_df.drop(columns=[\"age\", \"sex\", \"country\",\"checkin_date\"])"
   ]
  },
  {
   "cell_type": "markdown",
   "metadata": {},
   "source": [
    "# Calculation recs for test users"
   ]
  },
  {
   "cell_type": "code",
   "execution_count": null,
   "metadata": {},
   "outputs": [],
   "source": [
    "k=10\n",
    "test_users = test_dfd[\"numeric_user_id\"].unique()"
   ]
  },
  {
   "cell_type": "code",
   "execution_count": null,
   "metadata": {},
   "outputs": [],
   "source": [
    "\n",
    "def trackable_name_list_by_user(df, user):\n",
    "    return df[df[\"numeric_user_id\"]==user].numeric_trackable_name.to_list()\n",
    "\n",
    "def calculate_recommendations_for_user(userid, model, k, user_item_matrix=user_item_matrix, userid_to_id=userid_to_id, map_new=map_new):\n",
    "    \n",
    "    def recommendations_list_by_user(recs,map_new):\n",
    "        recomendations = pd.DataFrame({'index': recs})\n",
    "        recomendations = recomendations.merge(map_new, on='index', how='left')\n",
    "        recomendations = recomendations.drop(columns='index')\n",
    "        return recomendations.numeric_trackable_name.to_list()\n",
    "\n",
    "    def reccomendation(model, n,  userid, user_item_matrix, userid_to_id):\n",
    "        recs = model.recommend(userid=userid_to_id[userid],  \n",
    "                            user_items=csr_matrix(user_item_matrix.loc[userid_to_id[userid]]).tocsr(),  \n",
    "                            N=n, \n",
    "                            recalculate_user=True,\n",
    "                            filter_already_liked_items=False)\n",
    "        return recs[0]\n",
    "    \n",
    "    recs = reccomendation(model, k, userid, user_item_matrix, userid_to_id)\n",
    "    recommend_value_list = recommendations_list_by_user(recs, map_new)\n",
    "\n",
    "    return recommend_value_list"
   ]
  },
  {
   "cell_type": "code",
   "execution_count": null,
   "metadata": {},
   "outputs": [],
   "source": [
    "df_for_metrics = pd.DataFrame(columns=['user_id', 'actual','recommendations'])\n",
    "\n",
    "for userid in test_users:\n",
    "    df_for_metrics=pd.concat([pd.DataFrame([\n",
    "            {   \n",
    "                'user_id': userid, \n",
    "                'actual': trackable_name_list_by_user(test_dfd, userid), \n",
    "                'recommendations': calculate_recommendations_for_user(userid, model_als, k)\n",
    "             }]),\n",
    "            df_for_metrics],ignore_index=True)"
   ]
  },
  {
   "cell_type": "code",
   "execution_count": null,
   "metadata": {},
   "outputs": [],
   "source": [
    "df_for_metrics.set_index('user_id', inplace=True)"
   ]
  },
  {
   "cell_type": "code",
   "execution_count": null,
   "metadata": {},
   "outputs": [],
   "source": [
    "df_for_metrics.sort_index().head(20)"
   ]
  },
  {
   "cell_type": "code",
   "execution_count": null,
   "metadata": {},
   "outputs": [],
   "source": [
    "df_for_metrics.sort_index().to_csv('test.csv', encoding='utf-8')"
   ]
  },
  {
   "cell_type": "markdown",
   "metadata": {},
   "source": []
  }
 ],
 "metadata": {
  "kernelspec": {
   "display_name": "base",
   "language": "python",
   "name": "python3"
  },
  "language_info": {
   "codemirror_mode": {
    "name": "ipython",
    "version": 3
   },
   "file_extension": ".py",
   "mimetype": "text/x-python",
   "name": "python",
   "nbconvert_exporter": "python",
   "pygments_lexer": "ipython3",
   "version": "3.11.4"
  }
 },
 "nbformat": 4,
 "nbformat_minor": 2
}
