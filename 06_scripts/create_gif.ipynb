{
 "cells": [
  {
   "cell_type": "code",
   "execution_count": 1,
   "metadata": {},
   "outputs": [
    {
     "name": "stderr",
     "output_type": "stream",
     "text": [
      "<ipython-input-1-cdf001e06100>:19: DeprecationWarning: Starting with ImageIO v3 the behavior of this function will switch to that of iio.v3.imread. To keep the current behavior (and make this warning disappear) use `import imageio.v2 as imageio` or call `imageio.v2.imread` directly.\n",
      "  image = imageio.imread(image_path)\n"
     ]
    }
   ],
   "source": [
    "\n",
    "import imageio\n",
    "import os\n",
    "\n",
    "# Папка с изображениями\n",
    "image_folder = 'UMAP_Users'\n",
    "\n",
    "# Получаем список файлов изображений, соответствующих шаблону\n",
    "images = [f for f in os.listdir(image_folder) if f.startswith('ALS_f') and f.endswith('_r0.001_i30.png')]\n",
    "\n",
    "# Сортируем имена файлов изображений в порядке их индексов\n",
    "images_sorted = sorted(images, key=lambda x: int(x.split('_')[1][1:]))\n",
    "\n",
    "# Создаем список путей к изображениям\n",
    "image_paths = [os.path.join(image_folder, img) for img in images_sorted]\n",
    "\n",
    "# Создаем гиф-анимацию из списка изображений\n",
    "with imageio.get_writer('animation0001.gif', mode='I', duration=0.001) as writer:\n",
    "    for image_path in image_paths:\n",
    "        image = imageio.imread(image_path)\n",
    "        writer.append_data(image)"
   ]
  }
 ],
 "metadata": {
  "kernelspec": {
   "display_name": "base",
   "language": "python",
   "name": "python3"
  },
  "language_info": {
   "codemirror_mode": {
    "name": "ipython",
    "version": 3
   },
   "file_extension": ".py",
   "mimetype": "text/x-python",
   "name": "python",
   "nbconvert_exporter": "python",
   "pygments_lexer": "ipython3",
   "version": "3.11.4"
  }
 },
 "nbformat": 4,
 "nbformat_minor": 2
}
